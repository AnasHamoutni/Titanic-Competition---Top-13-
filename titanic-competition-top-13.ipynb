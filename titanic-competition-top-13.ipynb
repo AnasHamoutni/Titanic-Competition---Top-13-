{
 "cells": [
  {
   "cell_type": "markdown",
   "metadata": {
    "papermill": {
     "duration": 0.057002,
     "end_time": "2020-11-09T21:42:36.500156",
     "exception": false,
     "start_time": "2020-11-09T21:42:36.443154",
     "status": "completed"
    },
    "tags": []
   },
   "source": [
    "* #                                       **Titanic Disaster Competition**\n",
    "\n",
    "\n",
    "This is my first Competition at Kaggle.\n",
    "I will try to perform a good analysis of the data and build an appropriate model.\n",
    "\n",
    "\n",
    "*** Project Steps:**\n",
    "\n",
    "**1. Data Visualization**\n",
    "\n",
    "**2. Encoding String Type Variables**\n",
    "\n",
    "**3. Encoding Categorical Variables**\n",
    "\n",
    "**4. Data Standardization and Solving For Missing Values**\n",
    "\n",
    "**5. Dimensionality Reduction**\n",
    "\n",
    "**6. Data Split**\n",
    "\n",
    "**7. Building the Models**\n",
    "\n",
    "\n",
    "\n"
   ]
  },
  {
   "cell_type": "markdown",
   "metadata": {
    "papermill": {
     "duration": 0.053716,
     "end_time": "2020-11-09T21:42:36.609805",
     "exception": false,
     "start_time": "2020-11-09T21:42:36.556089",
     "status": "completed"
    },
    "tags": []
   },
   "source": [
    "First, Let's start by importing the DataSets and reading them."
   ]
  },
  {
   "cell_type": "code",
   "execution_count": 1,
   "metadata": {
    "_cell_guid": "79c7e3d0-c299-4dcb-8224-4455121ee9b0",
    "_uuid": "d629ff2d2480ee46fbb7e2d37f6b5fab8052498a",
    "execution": {
     "iopub.execute_input": "2020-11-09T21:42:36.723810Z",
     "iopub.status.busy": "2020-11-09T21:42:36.722974Z",
     "iopub.status.idle": "2020-11-09T21:42:36.766518Z",
     "shell.execute_reply": "2020-11-09T21:42:36.765923Z"
    },
    "papermill": {
     "duration": 0.10398,
     "end_time": "2020-11-09T21:42:36.766637",
     "exception": false,
     "start_time": "2020-11-09T21:42:36.662657",
     "status": "completed"
    },
    "tags": []
   },
   "outputs": [
    {
     "name": "stdout",
     "output_type": "stream",
     "text": [
      "/kaggle/input/titanic/train.csv\n",
      "/kaggle/input/titanic/gender_submission.csv\n",
      "/kaggle/input/titanic/test.csv\n"
     ]
    },
    {
     "data": {
      "text/html": [
       "<div>\n",
       "<style scoped>\n",
       "    .dataframe tbody tr th:only-of-type {\n",
       "        vertical-align: middle;\n",
       "    }\n",
       "\n",
       "    .dataframe tbody tr th {\n",
       "        vertical-align: top;\n",
       "    }\n",
       "\n",
       "    .dataframe thead th {\n",
       "        text-align: right;\n",
       "    }\n",
       "</style>\n",
       "<table border=\"1\" class=\"dataframe\">\n",
       "  <thead>\n",
       "    <tr style=\"text-align: right;\">\n",
       "      <th></th>\n",
       "      <th>PassengerId</th>\n",
       "      <th>Survived</th>\n",
       "      <th>Pclass</th>\n",
       "      <th>Name</th>\n",
       "      <th>Sex</th>\n",
       "      <th>Age</th>\n",
       "      <th>SibSp</th>\n",
       "      <th>Parch</th>\n",
       "      <th>Ticket</th>\n",
       "      <th>Fare</th>\n",
       "      <th>Cabin</th>\n",
       "      <th>Embarked</th>\n",
       "    </tr>\n",
       "  </thead>\n",
       "  <tbody>\n",
       "    <tr>\n",
       "      <th>0</th>\n",
       "      <td>1</td>\n",
       "      <td>0</td>\n",
       "      <td>3</td>\n",
       "      <td>Braund, Mr. Owen Harris</td>\n",
       "      <td>male</td>\n",
       "      <td>22.0</td>\n",
       "      <td>1</td>\n",
       "      <td>0</td>\n",
       "      <td>A/5 21171</td>\n",
       "      <td>7.2500</td>\n",
       "      <td>NaN</td>\n",
       "      <td>S</td>\n",
       "    </tr>\n",
       "    <tr>\n",
       "      <th>1</th>\n",
       "      <td>2</td>\n",
       "      <td>1</td>\n",
       "      <td>1</td>\n",
       "      <td>Cumings, Mrs. John Bradley (Florence Briggs Th...</td>\n",
       "      <td>female</td>\n",
       "      <td>38.0</td>\n",
       "      <td>1</td>\n",
       "      <td>0</td>\n",
       "      <td>PC 17599</td>\n",
       "      <td>71.2833</td>\n",
       "      <td>C85</td>\n",
       "      <td>C</td>\n",
       "    </tr>\n",
       "    <tr>\n",
       "      <th>2</th>\n",
       "      <td>3</td>\n",
       "      <td>1</td>\n",
       "      <td>3</td>\n",
       "      <td>Heikkinen, Miss. Laina</td>\n",
       "      <td>female</td>\n",
       "      <td>26.0</td>\n",
       "      <td>0</td>\n",
       "      <td>0</td>\n",
       "      <td>STON/O2. 3101282</td>\n",
       "      <td>7.9250</td>\n",
       "      <td>NaN</td>\n",
       "      <td>S</td>\n",
       "    </tr>\n",
       "    <tr>\n",
       "      <th>3</th>\n",
       "      <td>4</td>\n",
       "      <td>1</td>\n",
       "      <td>1</td>\n",
       "      <td>Futrelle, Mrs. Jacques Heath (Lily May Peel)</td>\n",
       "      <td>female</td>\n",
       "      <td>35.0</td>\n",
       "      <td>1</td>\n",
       "      <td>0</td>\n",
       "      <td>113803</td>\n",
       "      <td>53.1000</td>\n",
       "      <td>C123</td>\n",
       "      <td>S</td>\n",
       "    </tr>\n",
       "    <tr>\n",
       "      <th>4</th>\n",
       "      <td>5</td>\n",
       "      <td>0</td>\n",
       "      <td>3</td>\n",
       "      <td>Allen, Mr. William Henry</td>\n",
       "      <td>male</td>\n",
       "      <td>35.0</td>\n",
       "      <td>0</td>\n",
       "      <td>0</td>\n",
       "      <td>373450</td>\n",
       "      <td>8.0500</td>\n",
       "      <td>NaN</td>\n",
       "      <td>S</td>\n",
       "    </tr>\n",
       "  </tbody>\n",
       "</table>\n",
       "</div>"
      ],
      "text/plain": [
       "   PassengerId  Survived  Pclass  \\\n",
       "0            1         0       3   \n",
       "1            2         1       1   \n",
       "2            3         1       3   \n",
       "3            4         1       1   \n",
       "4            5         0       3   \n",
       "\n",
       "                                                Name     Sex   Age  SibSp  \\\n",
       "0                            Braund, Mr. Owen Harris    male  22.0      1   \n",
       "1  Cumings, Mrs. John Bradley (Florence Briggs Th...  female  38.0      1   \n",
       "2                             Heikkinen, Miss. Laina  female  26.0      0   \n",
       "3       Futrelle, Mrs. Jacques Heath (Lily May Peel)  female  35.0      1   \n",
       "4                           Allen, Mr. William Henry    male  35.0      0   \n",
       "\n",
       "   Parch            Ticket     Fare Cabin Embarked  \n",
       "0      0         A/5 21171   7.2500   NaN        S  \n",
       "1      0          PC 17599  71.2833   C85        C  \n",
       "2      0  STON/O2. 3101282   7.9250   NaN        S  \n",
       "3      0            113803  53.1000  C123        S  \n",
       "4      0            373450   8.0500   NaN        S  "
      ]
     },
     "execution_count": 1,
     "metadata": {},
     "output_type": "execute_result"
    }
   ],
   "source": [
    "import pandas as pd # data processing, CSV file I/O (e.g. pd.read_csv)\n",
    "import numpy as np\n",
    "import os\n",
    "\n",
    "for dirname, _, filenames in os.walk('/kaggle/input'): # get files directories\n",
    "    for filename in filenames:\n",
    "        print(os.path.join(dirname, filename))\n",
    "\n",
    "missing_value_formats = [\"n.a.\",\"?\",\"NA\",\"n/a\", \"na\", \"--\",\" \"] # Taking into account Missing Values\n",
    "\n",
    "titanic_train_file_path = '../input/titanic/train.csv'\n",
    "titanic_train = pd.read_csv(titanic_train_file_path, na_values = missing_value_formats) # reading the training set\n",
    "\n",
    "titanic_test_file_path = '../input/titanic/test.csv'\n",
    "titanic_test = pd.read_csv(titanic_test_file_path, na_values = missing_value_formats)# reading the final testing set\n",
    "\n",
    "titanic_train.head() # first 10 rows of the data\n",
    "\n",
    "\n"
   ]
  },
  {
   "cell_type": "markdown",
   "metadata": {
    "papermill": {
     "duration": 0.055799,
     "end_time": "2020-11-09T21:42:36.877945",
     "exception": false,
     "start_time": "2020-11-09T21:42:36.822146",
     "status": "completed"
    },
    "tags": []
   },
   "source": [
    "Following this Url: https://www.kaggle.com/c/titanic/data , you'll find the Data Dictionnary which explains the meaning of variables names.\n",
    "\n",
    "Input variables:\n",
    "\n",
    "* **pclass**: Ticket class - Categorical - Values: 1 = 1st, 2 = 2nd, 3 = 3rd.\n",
    "* **sex**: Categorical - Values: male or female.\n",
    "* **Age**: Age in years - Numerical.\n",
    "* **sibsp**: # of siblings / spouses aboard the Titanic - Numerical.\n",
    "* **parch**: # of parents / children aboard the Titanic - Numerical.\n",
    "* **ticket**: Ticket number - Mix of Numbers and Characters.\n",
    "* **fare**: Passenger fare - Numerical.\n",
    "* **cabin**: Cabin number - Mix of Numbers and Characters.\n",
    "* **embarked**: Port of Embarkation - Categorical - Values: C = Cherbourg, Q = Queenstown, S = Southampton.\n",
    "\n",
    "Target Variable:\n",
    "* **survival**: Categorical - Values: 0 = No, 1 = Yes.\n",
    "\n"
   ]
  },
  {
   "cell_type": "code",
   "execution_count": 2,
   "metadata": {
    "execution": {
     "iopub.execute_input": "2020-11-09T21:42:36.986816Z",
     "iopub.status.busy": "2020-11-09T21:42:36.985361Z",
     "iopub.status.idle": "2020-11-09T21:42:37.023204Z",
     "shell.execute_reply": "2020-11-09T21:42:37.022578Z"
    },
    "papermill": {
     "duration": 0.094567,
     "end_time": "2020-11-09T21:42:37.023326",
     "exception": false,
     "start_time": "2020-11-09T21:42:36.928759",
     "status": "completed"
    },
    "tags": []
   },
   "outputs": [
    {
     "data": {
      "text/html": [
       "<div>\n",
       "<style scoped>\n",
       "    .dataframe tbody tr th:only-of-type {\n",
       "        vertical-align: middle;\n",
       "    }\n",
       "\n",
       "    .dataframe tbody tr th {\n",
       "        vertical-align: top;\n",
       "    }\n",
       "\n",
       "    .dataframe thead th {\n",
       "        text-align: right;\n",
       "    }\n",
       "</style>\n",
       "<table border=\"1\" class=\"dataframe\">\n",
       "  <thead>\n",
       "    <tr style=\"text-align: right;\">\n",
       "      <th></th>\n",
       "      <th>PassengerId</th>\n",
       "      <th>Survived</th>\n",
       "      <th>Pclass</th>\n",
       "      <th>Age</th>\n",
       "      <th>SibSp</th>\n",
       "      <th>Parch</th>\n",
       "      <th>Fare</th>\n",
       "    </tr>\n",
       "  </thead>\n",
       "  <tbody>\n",
       "    <tr>\n",
       "      <th>count</th>\n",
       "      <td>891.000000</td>\n",
       "      <td>891.000000</td>\n",
       "      <td>891.000000</td>\n",
       "      <td>714.000000</td>\n",
       "      <td>891.000000</td>\n",
       "      <td>891.000000</td>\n",
       "      <td>891.000000</td>\n",
       "    </tr>\n",
       "    <tr>\n",
       "      <th>mean</th>\n",
       "      <td>446.000000</td>\n",
       "      <td>0.383838</td>\n",
       "      <td>2.308642</td>\n",
       "      <td>29.699118</td>\n",
       "      <td>0.523008</td>\n",
       "      <td>0.381594</td>\n",
       "      <td>32.204208</td>\n",
       "    </tr>\n",
       "    <tr>\n",
       "      <th>std</th>\n",
       "      <td>257.353842</td>\n",
       "      <td>0.486592</td>\n",
       "      <td>0.836071</td>\n",
       "      <td>14.526497</td>\n",
       "      <td>1.102743</td>\n",
       "      <td>0.806057</td>\n",
       "      <td>49.693429</td>\n",
       "    </tr>\n",
       "    <tr>\n",
       "      <th>min</th>\n",
       "      <td>1.000000</td>\n",
       "      <td>0.000000</td>\n",
       "      <td>1.000000</td>\n",
       "      <td>0.420000</td>\n",
       "      <td>0.000000</td>\n",
       "      <td>0.000000</td>\n",
       "      <td>0.000000</td>\n",
       "    </tr>\n",
       "    <tr>\n",
       "      <th>25%</th>\n",
       "      <td>223.500000</td>\n",
       "      <td>0.000000</td>\n",
       "      <td>2.000000</td>\n",
       "      <td>20.125000</td>\n",
       "      <td>0.000000</td>\n",
       "      <td>0.000000</td>\n",
       "      <td>7.910400</td>\n",
       "    </tr>\n",
       "    <tr>\n",
       "      <th>50%</th>\n",
       "      <td>446.000000</td>\n",
       "      <td>0.000000</td>\n",
       "      <td>3.000000</td>\n",
       "      <td>28.000000</td>\n",
       "      <td>0.000000</td>\n",
       "      <td>0.000000</td>\n",
       "      <td>14.454200</td>\n",
       "    </tr>\n",
       "    <tr>\n",
       "      <th>75%</th>\n",
       "      <td>668.500000</td>\n",
       "      <td>1.000000</td>\n",
       "      <td>3.000000</td>\n",
       "      <td>38.000000</td>\n",
       "      <td>1.000000</td>\n",
       "      <td>0.000000</td>\n",
       "      <td>31.000000</td>\n",
       "    </tr>\n",
       "    <tr>\n",
       "      <th>max</th>\n",
       "      <td>891.000000</td>\n",
       "      <td>1.000000</td>\n",
       "      <td>3.000000</td>\n",
       "      <td>80.000000</td>\n",
       "      <td>8.000000</td>\n",
       "      <td>6.000000</td>\n",
       "      <td>512.329200</td>\n",
       "    </tr>\n",
       "  </tbody>\n",
       "</table>\n",
       "</div>"
      ],
      "text/plain": [
       "       PassengerId    Survived      Pclass         Age       SibSp  \\\n",
       "count   891.000000  891.000000  891.000000  714.000000  891.000000   \n",
       "mean    446.000000    0.383838    2.308642   29.699118    0.523008   \n",
       "std     257.353842    0.486592    0.836071   14.526497    1.102743   \n",
       "min       1.000000    0.000000    1.000000    0.420000    0.000000   \n",
       "25%     223.500000    0.000000    2.000000   20.125000    0.000000   \n",
       "50%     446.000000    0.000000    3.000000   28.000000    0.000000   \n",
       "75%     668.500000    1.000000    3.000000   38.000000    1.000000   \n",
       "max     891.000000    1.000000    3.000000   80.000000    8.000000   \n",
       "\n",
       "            Parch        Fare  \n",
       "count  891.000000  891.000000  \n",
       "mean     0.381594   32.204208  \n",
       "std      0.806057   49.693429  \n",
       "min      0.000000    0.000000  \n",
       "25%      0.000000    7.910400  \n",
       "50%      0.000000   14.454200  \n",
       "75%      0.000000   31.000000  \n",
       "max      6.000000  512.329200  "
      ]
     },
     "execution_count": 2,
     "metadata": {},
     "output_type": "execute_result"
    }
   ],
   "source": [
    "titanic_train.describe()"
   ]
  },
  {
   "cell_type": "markdown",
   "metadata": {
    "papermill": {
     "duration": 0.056883,
     "end_time": "2020-11-09T21:42:37.143886",
     "exception": false,
     "start_time": "2020-11-09T21:42:37.087003",
     "status": "completed"
    },
    "tags": []
   },
   "source": [
    "For the Variables : \"PassengerId\", \"Survived\" and \"Pclass\" the statistics **mean** and **standard deviation** (**std**) are meaningless.\n",
    "\n",
    "What informations does this table brings:\n",
    "\n",
    "At First, we can see that we have **891** passenger. their **mean** age is about **29.6** years with a standard deviation of **14.5** years which means that for **+** or **- 28** years we capture more than **60%** of the population assuming a **Normal distribution** of Ages of the Titanic Population.\n",
    "\n",
    "By continuing to read the table we get more informations: For example the **75%** quantile is equal to **38** years which means that **75%** of the passengers have less than **38** years of age which makes the Titanic population a quite young one.\n",
    "\n",
    "At Second, from the columns of **SibSp** and **Parch** we see that both means are less than **1** which is normal and we can conclude that half of the population have one Sibling/Spouse and **38%** of the population have **1** Parent/Child.\n",
    "\n",
    "At Last, We have an Important Variable which is **Fare**, this Variable has a high chance to be one of the most explanatory Variable in the final model. Let's start by observing it's statistics: we can see from the mean and std that it has a very high standard deviation which means that there is a big disparity of Fare between the passengers and we can suspect that based on the median value compared to the max and the **75%** quantile. Anyway this will either be  confirmed or disconfirmed by the plots that we're going to make after this.\n",
    "\n",
    "**P.S: There are 64% males Against 36% females.**\n"
   ]
  },
  {
   "cell_type": "markdown",
   "metadata": {
    "papermill": {
     "duration": 0.052766,
     "end_time": "2020-11-09T21:42:37.252137",
     "exception": false,
     "start_time": "2020-11-09T21:42:37.199371",
     "status": "completed"
    },
    "tags": []
   },
   "source": [
    " # 1. Data Visualisation:\n",
    "\n",
    "\n",
    "Now, Let's move to the plots:\n",
    "\n"
   ]
  },
  {
   "cell_type": "code",
   "execution_count": 3,
   "metadata": {
    "execution": {
     "iopub.execute_input": "2020-11-09T21:42:37.362501Z",
     "iopub.status.busy": "2020-11-09T21:42:37.361677Z",
     "iopub.status.idle": "2020-11-09T21:42:37.365061Z",
     "shell.execute_reply": "2020-11-09T21:42:37.365590Z"
    },
    "papermill": {
     "duration": 0.061881,
     "end_time": "2020-11-09T21:42:37.365711",
     "exception": false,
     "start_time": "2020-11-09T21:42:37.303830",
     "status": "completed"
    },
    "tags": []
   },
   "outputs": [
    {
     "data": {
      "text/html": [
       "\n",
       "<style>\n",
       ".output_png {\n",
       "    display: table-cell;\n",
       "    text-align: center;\n",
       "    vertical-align: middle;\n",
       "}\n",
       "</style>\n"
      ],
      "text/plain": [
       "<IPython.core.display.HTML object>"
      ]
     },
     "execution_count": 3,
     "metadata": {},
     "output_type": "execute_result"
    }
   ],
   "source": [
    "# Center the charts\n",
    "\n",
    "from IPython.core.display import HTML \n",
    "HTML(\"\"\"\n",
    "<style>\n",
    ".output_png {\n",
    "    display: table-cell;\n",
    "    text-align: center;\n",
    "    vertical-align: middle;\n",
    "}\n",
    "</style>\n",
    "\"\"\")"
   ]
  },
  {
   "cell_type": "markdown",
   "metadata": {
    "papermill": {
     "duration": 0.051154,
     "end_time": "2020-11-09T21:42:37.468942",
     "exception": false,
     "start_time": "2020-11-09T21:42:37.417788",
     "status": "completed"
    },
    "tags": []
   },
   "source": [
    "* **Plotting The Variable 'Survived':** "
   ]
  },
  {
   "cell_type": "code",
   "execution_count": 4,
   "metadata": {
    "execution": {
     "iopub.execute_input": "2020-11-09T21:42:37.580917Z",
     "iopub.status.busy": "2020-11-09T21:42:37.580022Z",
     "iopub.status.idle": "2020-11-09T21:42:37.713676Z",
     "shell.execute_reply": "2020-11-09T21:42:37.714392Z"
    },
    "papermill": {
     "duration": 0.195202,
     "end_time": "2020-11-09T21:42:37.714574",
     "exception": false,
     "start_time": "2020-11-09T21:42:37.519372",
     "status": "completed"
    },
    "tags": []
   },
   "outputs": [
    {
     "data": {
      "image/png": "[encoded data removed]",
      "text/plain": [
       "<Figure size 432x288 with 1 Axes>"
      ]
     },
     "metadata": {},
     "output_type": "display_data"
    }
   ],
   "source": [
    "# Pie chart of Variable 'Survived'\n",
    "\n",
    "\n",
    "import matplotlib.pyplot as plt\n",
    "\n",
    "labels = 'Died', 'Survived'\n",
    "sizes = [titanic_train['Survived'].loc[titanic_train['Survived'] == 0].count()/titanic_train['Survived'].count(), titanic_train['Survived'].loc[titanic_train['Survived'] == 1].count()/titanic_train['Survived'].count()]\n",
    "explode = (0, 0.1)  # only \"explode\" the 2nd slice (i.e. 'Survived')\n",
    "\n",
    "fig1, ax1 = plt.subplots()\n",
    "ax1.pie(sizes, explode=explode, labels=labels, autopct='%1.1f%%',shadow=True, startangle=90)\n",
    "ax1.axis('equal')  # Equal aspect ratio ensures that pie is drawn as a circle.\n",
    "plt.title('Survivors Ratio',  fontsize=13,fontweight='bold')\n",
    "plt.show()"
   ]
  },
  {
   "cell_type": "markdown",
   "metadata": {
    "papermill": {
     "duration": 0.058837,
     "end_time": "2020-11-09T21:42:37.837430",
     "exception": false,
     "start_time": "2020-11-09T21:42:37.778593",
     "status": "completed"
    },
    "tags": []
   },
   "source": [
    "**Comment:** \n",
    "\n",
    "The Pie Chart is a way of representing the ratio of Survivors in the Passengers Population of the Training Data.\n",
    "We can see that the amount of survivors counts for about 38%."
   ]
  },
  {
   "cell_type": "markdown",
   "metadata": {
    "papermill": {
     "duration": 0.05826,
     "end_time": "2020-11-09T21:42:37.954624",
     "exception": false,
     "start_time": "2020-11-09T21:42:37.896364",
     "status": "completed"
    },
    "tags": []
   },
   "source": [
    "* **Plotting of Variable 'Pclass':**"
   ]
  },
  {
   "cell_type": "code",
   "execution_count": 5,
   "metadata": {
    "execution": {
     "iopub.execute_input": "2020-11-09T21:42:38.082940Z",
     "iopub.status.busy": "2020-11-09T21:42:38.081838Z",
     "iopub.status.idle": "2020-11-09T21:42:38.278685Z",
     "shell.execute_reply": "2020-11-09T21:42:38.278060Z"
    },
    "papermill": {
     "duration": 0.265926,
     "end_time": "2020-11-09T21:42:38.278813",
     "exception": false,
     "start_time": "2020-11-09T21:42:38.012887",
     "status": "completed"
    },
    "tags": []
   },
   "outputs": [
    {
     "data": {
      "image/png": "[encoded data removed]",
      "text/plain": [
       "<Figure size 432x288 with 1 Axes>"
      ]
     },
     "metadata": {
      "needs_background": "light"
     },
     "output_type": "display_data"
    }
   ],
   "source": [
    "import numpy as np\n",
    "import matplotlib.pyplot as plt\n",
    "from matplotlib.ticker import PercentFormatter\n",
    "\n",
    "\n",
    "plt.hist(titanic_train['Pclass'],weights=np.ones(len(titanic_train['Pclass'])) / len(titanic_train['Pclass']), bins=np.arange(1,5)-0.25 , width=0.5)\n",
    "\n",
    "plt.ylabel('Percentage of Passengers by Class',  fontsize=13,fontweight='bold')\n",
    "plt.xlabel('Class Types',  fontsize=13,fontweight='bold')\n",
    "plt.xticks(range(1,4))\n",
    "plt.gca().yaxis.set_major_formatter(PercentFormatter(1))\n",
    "\n",
    "plt.show()"
   ]
  },
  {
   "cell_type": "markdown",
   "metadata": {
    "papermill": {
     "duration": 0.058377,
     "end_time": "2020-11-09T21:42:38.396095",
     "exception": false,
     "start_time": "2020-11-09T21:42:38.337718",
     "status": "completed"
    },
    "tags": []
   },
   "source": [
    "**Comment:** \n",
    "\n",
    "The Chart Above represents the Percentage of Passengers in each Class.\n",
    "We can see that the amount of Passengers in Class 3 is the widest and it is the smallest in Class 2."
   ]
  },
  {
   "cell_type": "code",
   "execution_count": 6,
   "metadata": {
    "execution": {
     "iopub.execute_input": "2020-11-09T21:42:38.524947Z",
     "iopub.status.busy": "2020-11-09T21:42:38.519398Z",
     "iopub.status.idle": "2020-11-09T21:42:38.719071Z",
     "shell.execute_reply": "2020-11-09T21:42:38.719609Z"
    },
    "papermill": {
     "duration": 0.266698,
     "end_time": "2020-11-09T21:42:38.719763",
     "exception": false,
     "start_time": "2020-11-09T21:42:38.453065",
     "status": "completed"
    },
    "tags": []
   },
   "outputs": [
    {
     "data": {
      "image/png": "[encoded data removed]",
      "text/plain": [
       "<Figure size 432x288 with 1 Axes>"
      ]
     },
     "metadata": {
      "needs_background": "light"
     },
     "output_type": "display_data"
    }
   ],
   "source": [
    "import numpy as np\n",
    "import matplotlib.pyplot as plt\n",
    "\n",
    "df=pd.crosstab(titanic_train['Pclass'],titanic_train['Survived']).apply(lambda r: r/r.sum(), axis=1)\n",
    "df.plot.bar()\n",
    "plt.ylabel('Percentage of Survivors by Class',  fontsize=13,fontweight='bold')\n",
    "plt.xlabel('Class Types',  fontsize=13,fontweight='bold')\n",
    "plt.gca().yaxis.set_major_formatter(PercentFormatter(1))\n",
    "plt.xticks(rotation=360)\n",
    "\n",
    "L=plt.legend()\n",
    "L.get_texts()[0].set_text('Died')\n",
    "L.get_texts()[1].set_text('Survived')\n",
    "plt.show()\n",
    "\n"
   ]
  },
  {
   "cell_type": "markdown",
   "metadata": {
    "papermill": {
     "duration": 0.087772,
     "end_time": "2020-11-09T21:42:38.890646",
     "exception": false,
     "start_time": "2020-11-09T21:42:38.802874",
     "status": "completed"
    },
    "tags": []
   },
   "source": [
    "**Comment:**\n",
    "\n",
    "The chart above represents the Percentage of Survivors and Dead Passengers in Each Class.\n",
    "We can see that Class 1 and Class 3 represent opposite behaviours of Variable 'Survived' as the Majority of Passengers of Class 3 have Died Which is the opposite of what happened in Class 1."
   ]
  },
  {
   "cell_type": "markdown",
   "metadata": {
    "papermill": {
     "duration": 0.092204,
     "end_time": "2020-11-09T21:42:39.070625",
     "exception": false,
     "start_time": "2020-11-09T21:42:38.978421",
     "status": "completed"
    },
    "tags": []
   },
   "source": [
    "* **Plotting of Variable 'Sex':**"
   ]
  },
  {
   "cell_type": "code",
   "execution_count": 7,
   "metadata": {
    "execution": {
     "iopub.execute_input": "2020-11-09T21:42:39.260375Z",
     "iopub.status.busy": "2020-11-09T21:42:39.259219Z",
     "iopub.status.idle": "2020-11-09T21:42:39.342089Z",
     "shell.execute_reply": "2020-11-09T21:42:39.343290Z"
    },
    "papermill": {
     "duration": 0.187675,
     "end_time": "2020-11-09T21:42:39.343521",
     "exception": false,
     "start_time": "2020-11-09T21:42:39.155846",
     "status": "completed"
    },
    "tags": []
   },
   "outputs": [
    {
     "data": {
      "image/png": "[encoded data removed]",
      "text/plain": [
       "<Figure size 432x288 with 1 Axes>"
      ]
     },
     "metadata": {},
     "output_type": "display_data"
    }
   ],
   "source": [
    "import matplotlib.pyplot as plt\n",
    "\n",
    "# Pie chart, where the slices will be ordered and plotted counter-clockwise:\n",
    "labels = 'Female', 'Male'\n",
    "sizes = [titanic_train['Sex'].loc[titanic_train['Sex'] == \"female\"].count()/titanic_train['Sex'].count(), titanic_train['Sex'].loc[titanic_train['Sex'] == \"male\"].count()/titanic_train['Sex'].count()]\n",
    "explode = (0, 0.1)  # only \"explode\" the 2nd slice (i.e. 'Hogs')\n",
    "\n",
    "fig1, ax1 = plt.subplots()\n",
    "ax1.pie(sizes, explode=explode, labels=labels, autopct='%1.1f%%',shadow=True, startangle=90)\n",
    "ax1.axis('equal')  # Equal aspect ratio ensures that pie is drawn as a circle.\n",
    "plt.title('Sex Ratio',  fontsize=13,fontweight='bold')\n",
    "plt.show()\n",
    "\n"
   ]
  },
  {
   "cell_type": "code",
   "execution_count": 8,
   "metadata": {
    "execution": {
     "iopub.execute_input": "2020-11-09T21:42:39.507900Z",
     "iopub.status.busy": "2020-11-09T21:42:39.506435Z",
     "iopub.status.idle": "2020-11-09T21:42:39.683855Z",
     "shell.execute_reply": "2020-11-09T21:42:39.684400Z"
    },
    "papermill": {
     "duration": 0.253373,
     "end_time": "2020-11-09T21:42:39.684553",
     "exception": false,
     "start_time": "2020-11-09T21:42:39.431180",
     "status": "completed"
    },
    "tags": []
   },
   "outputs": [
    {
     "data": {
      "image/png": "[encoded data removed]",
      "text/plain": [
       "<Figure size 432x288 with 1 Axes>"
      ]
     },
     "metadata": {
      "needs_background": "light"
     },
     "output_type": "display_data"
    }
   ],
   "source": [
    "import numpy as np\n",
    "import matplotlib.pyplot as plt\n",
    "from matplotlib.ticker import PercentFormatter\n",
    "\n",
    "\n",
    "df=pd.crosstab(titanic_train['Sex'],titanic_train['Survived']).apply(lambda r: r/r.sum(), axis=1)\n",
    "df.plot.bar()\n",
    "plt.ylabel('Percentage of Survivors by Sex',  fontsize=13,fontweight='bold')\n",
    "plt.xlabel('Sex',  fontsize=13,fontweight='bold')\n",
    "plt.gca().yaxis.set_major_formatter(PercentFormatter(1))\n",
    "plt.xticks(rotation=360)\n",
    "\n",
    "L=plt.legend()\n",
    "L.get_texts()[0].set_text('Died')\n",
    "L.get_texts()[1].set_text('Survived')\n",
    "plt.show()\n",
    "\n",
    "plt.show()"
   ]
  },
  {
   "cell_type": "markdown",
   "metadata": {
    "papermill": {
     "duration": 0.05895,
     "end_time": "2020-11-09T21:42:39.807255",
     "exception": false,
     "start_time": "2020-11-09T21:42:39.748305",
     "status": "completed"
    },
    "tags": []
   },
   "source": [
    "**Comment:**\n",
    "\n",
    "For the Female Sex the Majority Survived, While the Opposite happened for the Male Sex."
   ]
  },
  {
   "cell_type": "markdown",
   "metadata": {
    "papermill": {
     "duration": 0.062124,
     "end_time": "2020-11-09T21:42:39.930324",
     "exception": false,
     "start_time": "2020-11-09T21:42:39.868200",
     "status": "completed"
    },
    "tags": []
   },
   "source": [
    "* **Plotting Of The Variable 'Age':**"
   ]
  },
  {
   "cell_type": "code",
   "execution_count": 9,
   "metadata": {
    "execution": {
     "iopub.execute_input": "2020-11-09T21:42:40.074558Z",
     "iopub.status.busy": "2020-11-09T21:42:40.063670Z",
     "iopub.status.idle": "2020-11-09T21:42:40.926276Z",
     "shell.execute_reply": "2020-11-09T21:42:40.925682Z"
    },
    "papermill": {
     "duration": 0.93325,
     "end_time": "2020-11-09T21:42:40.926395",
     "exception": false,
     "start_time": "2020-11-09T21:42:39.993145",
     "status": "completed"
    },
    "tags": []
   },
   "outputs": [
    {
     "data": {
      "image/png": "[encoded data removed]",
      "text/plain": [
       "<Figure size 432x288 with 1 Axes>"
      ]
     },
     "metadata": {
      "needs_background": "light"
     },
     "output_type": "display_data"
    }
   ],
   "source": [
    "titanic_train.groupby('Sex').Age.plot(kind='kde')\n",
    "plt.ylabel('Percentage of Passengers',  fontsize=13,fontweight='bold')\n",
    "plt.xlabel('Age',  fontsize=13,fontweight='bold')\n",
    "plt.gca().yaxis.set_major_formatter(PercentFormatter(1))\n",
    "plt.xticks(rotation=360)\n",
    "plt.xlim(xmin=0,xmax=100 )\n",
    "plt.legend()\n",
    "plt.show()"
   ]
  },
  {
   "cell_type": "markdown",
   "metadata": {
    "papermill": {
     "duration": 0.064975,
     "end_time": "2020-11-09T21:42:41.053671",
     "exception": false,
     "start_time": "2020-11-09T21:42:40.988696",
     "status": "completed"
    },
    "tags": []
   },
   "source": [
    "**Comment:**\n",
    "\n",
    "We Conclude from the Chart Above That Age has identical Distribution By Sex in the Population of Passengers."
   ]
  },
  {
   "cell_type": "code",
   "execution_count": 10,
   "metadata": {
    "execution": {
     "iopub.execute_input": "2020-11-09T21:42:41.236111Z",
     "iopub.status.busy": "2020-11-09T21:42:41.234990Z",
     "iopub.status.idle": "2020-11-09T21:42:41.703430Z",
     "shell.execute_reply": "2020-11-09T21:42:41.704677Z"
    },
    "papermill": {
     "duration": 0.57523,
     "end_time": "2020-11-09T21:42:41.704872",
     "exception": false,
     "start_time": "2020-11-09T21:42:41.129642",
     "status": "completed"
    },
    "tags": []
   },
   "outputs": [
    {
     "data": {
      "image/png": "[encoded data removed]",
      "text/plain": [
       "<Figure size 432x288 with 1 Axes>"
      ]
     },
     "metadata": {
      "needs_background": "light"
     },
     "output_type": "display_data"
    }
   ],
   "source": [
    "titanic_train.groupby('Pclass').Age.plot(kind='kde')\n",
    "plt.ylabel('Percentage of Passengers',  fontsize=13,fontweight='bold')\n",
    "plt.xlabel('Age',  fontsize=13,fontweight='bold')\n",
    "plt.gca().yaxis.set_major_formatter(PercentFormatter(1))\n",
    "plt.xticks(rotation=360)\n",
    "plt.xlim(xmin=0,xmax=100 )\n",
    "plt.legend()\n",
    "L=plt.legend()\n",
    "L.get_texts()[0].set_text('1st Class')\n",
    "L.get_texts()[1].set_text('2nd Class')\n",
    "L.get_texts()[2].set_text('3rd Class')\n",
    "\n",
    "\n",
    "plt.show()"
   ]
  },
  {
   "cell_type": "markdown",
   "metadata": {
    "papermill": {
     "duration": 0.092018,
     "end_time": "2020-11-09T21:42:41.898047",
     "exception": false,
     "start_time": "2020-11-09T21:42:41.806029",
     "status": "completed"
    },
    "tags": []
   },
   "source": [
    "**Comment:**\n",
    "\n",
    "The Conclusion for the Above Chart is that the more Age we have the higher is the probability to be in a Higher Class."
   ]
  },
  {
   "cell_type": "markdown",
   "metadata": {
    "papermill": {
     "duration": 0.080221,
     "end_time": "2020-11-09T21:42:42.055415",
     "exception": false,
     "start_time": "2020-11-09T21:42:41.975194",
     "status": "completed"
    },
    "tags": []
   },
   "source": [
    "* **Plotting Of The Variable 'Fare':**"
   ]
  },
  {
   "cell_type": "code",
   "execution_count": 11,
   "metadata": {
    "execution": {
     "iopub.execute_input": "2020-11-09T21:42:42.261800Z",
     "iopub.status.busy": "2020-11-09T21:42:42.260884Z",
     "iopub.status.idle": "2020-11-09T21:42:42.570085Z",
     "shell.execute_reply": "2020-11-09T21:42:42.570663Z"
    },
    "papermill": {
     "duration": 0.438913,
     "end_time": "2020-11-09T21:42:42.570821",
     "exception": false,
     "start_time": "2020-11-09T21:42:42.131908",
     "status": "completed"
    },
    "tags": []
   },
   "outputs": [
    {
     "data": {
      "image/png": "[encoded data removed]",
      "text/plain": [
       "<Figure size 432x288 with 1 Axes>"
      ]
     },
     "metadata": {
      "needs_background": "light"
     },
     "output_type": "display_data"
    }
   ],
   "source": [
    "import matplotlib.pyplot as plt\n",
    "\n",
    "ranges = [0,30,60,90,120,150,180,550]\n",
    "\n",
    "\n",
    "df1=pd.DataFrame(titanic_train['Fare'].loc[titanic_train['Survived'] == 1].value_counts())\n",
    "df1=df1.groupby(pd.cut(df1.index, ranges)).sum()\n",
    "df1.rename(columns={'Fare': 'Survivors'})\n",
    "df2=pd.DataFrame(titanic_train['Fare'].value_counts())\n",
    "df2=df2.groupby(pd.cut(df2.index, ranges)).sum()\n",
    "df2.rename(columns={'Fare': 'Survivors'})\n",
    "\n",
    "df3=df1/df2\n",
    "df3.plot.bar(legend=None, color='orange')\n",
    "plt.xticks(rotation=60)\n",
    "\n",
    "plt.xlabel('Fare Range',  fontsize=13,fontweight='bold')\n",
    "plt.ylabel('Percentage of Survivors per Fare range',  fontsize=13,fontweight='bold')\n",
    "plt.gca().yaxis.set_major_formatter(PercentFormatter(1))\n"
   ]
  },
  {
   "cell_type": "markdown",
   "metadata": {
    "papermill": {
     "duration": 0.067431,
     "end_time": "2020-11-09T21:42:42.705553",
     "exception": false,
     "start_time": "2020-11-09T21:42:42.638122",
     "status": "completed"
    },
    "tags": []
   },
   "source": [
    "**Comment:**\n",
    "\n",
    "The ratio of Survivors is Very low For Poor People Compared to Rich ones.\n"
   ]
  },
  {
   "cell_type": "markdown",
   "metadata": {
    "papermill": {
     "duration": 0.066148,
     "end_time": "2020-11-09T21:42:42.837872",
     "exception": false,
     "start_time": "2020-11-09T21:42:42.771724",
     "status": "completed"
    },
    "tags": []
   },
   "source": [
    "* **Plotting Of The Variable 'SibSp':**"
   ]
  },
  {
   "cell_type": "code",
   "execution_count": 12,
   "metadata": {
    "execution": {
     "iopub.execute_input": "2020-11-09T21:42:42.985732Z",
     "iopub.status.busy": "2020-11-09T21:42:42.984703Z",
     "iopub.status.idle": "2020-11-09T21:42:43.188844Z",
     "shell.execute_reply": "2020-11-09T21:42:43.189512Z"
    },
    "papermill": {
     "duration": 0.28509,
     "end_time": "2020-11-09T21:42:43.189679",
     "exception": false,
     "start_time": "2020-11-09T21:42:42.904589",
     "status": "completed"
    },
    "tags": []
   },
   "outputs": [
    {
     "data": {
      "image/png": "[encoded data removed]",
      "text/plain": [
       "<Figure size 432x288 with 1 Axes>"
      ]
     },
     "metadata": {
      "needs_background": "light"
     },
     "output_type": "display_data"
    }
   ],
   "source": [
    "import numpy as np\n",
    "import matplotlib.pyplot as plt\n",
    "from matplotlib.ticker import PercentFormatter\n",
    "\n",
    "df=pd.crosstab(titanic_train['SibSp'],titanic_train['Survived']).apply(lambda r: r/r.sum(), axis=1)\n",
    "df.plot.bar()\n",
    "plt.ylabel('Percentage of Survivors by SibSp',  fontsize=13,fontweight='bold')\n",
    "plt.xlabel('Number of Siblings / Spouses',  fontsize=13,fontweight='bold')\n",
    "plt.gca().yaxis.set_major_formatter(PercentFormatter(1))\n",
    "plt.xticks(rotation=360)\n",
    "L=plt.legend()\n",
    "L.get_texts()[0].set_text('Died')\n",
    "L.get_texts()[1].set_text('Survived')\n",
    "plt.show()"
   ]
  },
  {
   "cell_type": "markdown",
   "metadata": {
    "papermill": {
     "duration": 0.059236,
     "end_time": "2020-11-09T21:42:43.310759",
     "exception": false,
     "start_time": "2020-11-09T21:42:43.251523",
     "status": "completed"
    },
    "tags": []
   },
   "source": [
    "**Comment:**\n",
    "\n",
    "The more Siblings/Spouses you have the more is the chance that you die."
   ]
  },
  {
   "cell_type": "markdown",
   "metadata": {
    "papermill": {
     "duration": 0.058692,
     "end_time": "2020-11-09T21:42:43.428875",
     "exception": false,
     "start_time": "2020-11-09T21:42:43.370183",
     "status": "completed"
    },
    "tags": []
   },
   "source": [
    "* **Plotting Of The Variable 'Parch':**"
   ]
  },
  {
   "cell_type": "code",
   "execution_count": 13,
   "metadata": {
    "execution": {
     "iopub.execute_input": "2020-11-09T21:42:43.561937Z",
     "iopub.status.busy": "2020-11-09T21:42:43.560912Z",
     "iopub.status.idle": "2020-11-09T21:42:43.763749Z",
     "shell.execute_reply": "2020-11-09T21:42:43.764312Z"
    },
    "papermill": {
     "duration": 0.276092,
     "end_time": "2020-11-09T21:42:43.764467",
     "exception": false,
     "start_time": "2020-11-09T21:42:43.488375",
     "status": "completed"
    },
    "tags": []
   },
   "outputs": [
    {
     "data": {
      "image/png": "[encoded data removed]",
      "text/plain": [
       "<Figure size 432x288 with 1 Axes>"
      ]
     },
     "metadata": {
      "needs_background": "light"
     },
     "output_type": "display_data"
    }
   ],
   "source": [
    "import numpy as np\n",
    "import matplotlib.pyplot as plt\n",
    "from matplotlib.ticker import PercentFormatter\n",
    "\n",
    "df=pd.crosstab(titanic_train['Parch'],titanic_train['Survived']).apply(lambda r: r/r.sum(), axis=1)\n",
    "df.plot.bar()\n",
    "plt.ylabel('Percentage of Survivors by Parch',  fontsize=13,fontweight='bold')\n",
    "plt.xlabel('Number  of Parents / Children',  fontsize=13,fontweight='bold')\n",
    "plt.gca().yaxis.set_major_formatter(PercentFormatter(1))\n",
    "plt.xticks(rotation=360)\n",
    "L=plt.legend()\n",
    "L.get_texts()[0].set_text('Died')\n",
    "L.get_texts()[1].set_text('Survived')\n",
    "plt.show()"
   ]
  },
  {
   "cell_type": "markdown",
   "metadata": {
    "papermill": {
     "duration": 0.064687,
     "end_time": "2020-11-09T21:42:43.895981",
     "exception": false,
     "start_time": "2020-11-09T21:42:43.831294",
     "status": "completed"
    },
    "tags": []
   },
   "source": [
    "**Comment:**\n",
    "\n",
    "The more Parents/Children you have the more is the chance that you've died on the Titanic."
   ]
  },
  {
   "cell_type": "markdown",
   "metadata": {
    "papermill": {
     "duration": 0.068925,
     "end_time": "2020-11-09T21:42:44.030906",
     "exception": false,
     "start_time": "2020-11-09T21:42:43.961981",
     "status": "completed"
    },
    "tags": []
   },
   "source": [
    "# 2. Encoding String Type Variables:\n",
    " \n",
    "The Variables 'Cabin', 'Ticket' and 'Name' are non Categorical String Variables and the first two of them might present a high prediction power so we will try to encode them into there respective Integer Unicodes:"
   ]
  },
  {
   "cell_type": "code",
   "execution_count": 14,
   "metadata": {
    "execution": {
     "iopub.execute_input": "2020-11-09T21:42:44.222224Z",
     "iopub.status.busy": "2020-11-09T21:42:44.221211Z",
     "iopub.status.idle": "2020-11-09T21:42:44.631253Z",
     "shell.execute_reply": "2020-11-09T21:42:44.630630Z"
    },
    "papermill": {
     "duration": 0.535087,
     "end_time": "2020-11-09T21:42:44.631372",
     "exception": false,
     "start_time": "2020-11-09T21:42:44.096285",
     "status": "completed"
    },
    "tags": []
   },
   "outputs": [
    {
     "name": "stderr",
     "output_type": "stream",
     "text": [
      "/opt/conda/lib/python3.7/site-packages/ipykernel_launcher.py:17: SettingWithCopyWarning: \n",
      "A value is trying to be set on a copy of a slice from a DataFrame\n",
      "\n",
      "See the caveats in the documentation: https://pandas.pydata.org/pandas-docs/stable/user_guide/indexing.html#returning-a-view-versus-a-copy\n",
      "/opt/conda/lib/python3.7/site-packages/ipykernel_launcher.py:25: SettingWithCopyWarning: \n",
      "A value is trying to be set on a copy of a slice from a DataFrame\n",
      "\n",
      "See the caveats in the documentation: https://pandas.pydata.org/pandas-docs/stable/user_guide/indexing.html#returning-a-view-versus-a-copy\n",
      "/opt/conda/lib/python3.7/site-packages/ipykernel_launcher.py:34: SettingWithCopyWarning: \n",
      "A value is trying to be set on a copy of a slice from a DataFrame\n",
      "\n",
      "See the caveats in the documentation: https://pandas.pydata.org/pandas-docs/stable/user_guide/indexing.html#returning-a-view-versus-a-copy\n",
      "/opt/conda/lib/python3.7/site-packages/ipykernel_launcher.py:42: SettingWithCopyWarning: \n",
      "A value is trying to be set on a copy of a slice from a DataFrame\n",
      "\n",
      "See the caveats in the documentation: https://pandas.pydata.org/pandas-docs/stable/user_guide/indexing.html#returning-a-view-versus-a-copy\n",
      "/opt/conda/lib/python3.7/site-packages/ipykernel_launcher.py:50: SettingWithCopyWarning: \n",
      "A value is trying to be set on a copy of a slice from a DataFrame\n",
      "\n",
      "See the caveats in the documentation: https://pandas.pydata.org/pandas-docs/stable/user_guide/indexing.html#returning-a-view-versus-a-copy\n",
      "/opt/conda/lib/python3.7/site-packages/ipykernel_launcher.py:58: SettingWithCopyWarning: \n",
      "A value is trying to be set on a copy of a slice from a DataFrame\n",
      "\n",
      "See the caveats in the documentation: https://pandas.pydata.org/pandas-docs/stable/user_guide/indexing.html#returning-a-view-versus-a-copy\n"
     ]
    },
    {
     "data": {
      "text/html": [
       "<div>\n",
       "<style scoped>\n",
       "    .dataframe tbody tr th:only-of-type {\n",
       "        vertical-align: middle;\n",
       "    }\n",
       "\n",
       "    .dataframe tbody tr th {\n",
       "        vertical-align: top;\n",
       "    }\n",
       "\n",
       "    .dataframe thead th {\n",
       "        text-align: right;\n",
       "    }\n",
       "</style>\n",
       "<table border=\"1\" class=\"dataframe\">\n",
       "  <thead>\n",
       "    <tr style=\"text-align: right;\">\n",
       "      <th></th>\n",
       "      <th>PassengerId</th>\n",
       "      <th>Survived</th>\n",
       "      <th>Pclass</th>\n",
       "      <th>Name</th>\n",
       "      <th>Age</th>\n",
       "      <th>SibSp</th>\n",
       "      <th>Parch</th>\n",
       "      <th>Ticket</th>\n",
       "      <th>Fare</th>\n",
       "      <th>Cabin</th>\n",
       "    </tr>\n",
       "  </thead>\n",
       "  <tbody>\n",
       "    <tr>\n",
       "      <th>count</th>\n",
       "      <td>891.000000</td>\n",
       "      <td>891.000000</td>\n",
       "      <td>891.000000</td>\n",
       "      <td>8.910000e+02</td>\n",
       "      <td>714.000000</td>\n",
       "      <td>891.000000</td>\n",
       "      <td>891.000000</td>\n",
       "      <td>8.910000e+02</td>\n",
       "      <td>891.000000</td>\n",
       "      <td>2.040000e+02</td>\n",
       "    </tr>\n",
       "    <tr>\n",
       "      <th>mean</th>\n",
       "      <td>446.000000</td>\n",
       "      <td>0.383838</td>\n",
       "      <td>2.308642</td>\n",
       "      <td>8.990024e+204</td>\n",
       "      <td>29.699118</td>\n",
       "      <td>0.523008</td>\n",
       "      <td>0.381594</td>\n",
       "      <td>5.776695e+33</td>\n",
       "      <td>32.204208</td>\n",
       "      <td>6.523092e+27</td>\n",
       "    </tr>\n",
       "    <tr>\n",
       "      <th>std</th>\n",
       "      <td>257.353842</td>\n",
       "      <td>0.486592</td>\n",
       "      <td>0.836071</td>\n",
       "      <td>inf</td>\n",
       "      <td>14.526497</td>\n",
       "      <td>1.102743</td>\n",
       "      <td>0.806057</td>\n",
       "      <td>6.856935e+34</td>\n",
       "      <td>49.693429</td>\n",
       "      <td>6.571753e+28</td>\n",
       "    </tr>\n",
       "    <tr>\n",
       "      <th>min</th>\n",
       "      <td>1.000000</td>\n",
       "      <td>0.000000</td>\n",
       "      <td>1.000000</td>\n",
       "      <td>7.697109e+27</td>\n",
       "      <td>0.420000</td>\n",
       "      <td>0.000000</td>\n",
       "      <td>0.000000</td>\n",
       "      <td>5.457510e+05</td>\n",
       "      <td>0.000000</td>\n",
       "      <td>6.800000e+01</td>\n",
       "    </tr>\n",
       "    <tr>\n",
       "      <th>25%</th>\n",
       "      <td>223.500000</td>\n",
       "      <td>0.000000</td>\n",
       "      <td>2.000000</td>\n",
       "      <td>6.954608e+50</td>\n",
       "      <td>20.125000</td>\n",
       "      <td>0.000000</td>\n",
       "      <td>0.000000</td>\n",
       "      <td>5.154575e+09</td>\n",
       "      <td>7.910400</td>\n",
       "      <td>6.651530e+05</td>\n",
       "    </tr>\n",
       "    <tr>\n",
       "      <th>50%</th>\n",
       "      <td>446.000000</td>\n",
       "      <td>0.000000</td>\n",
       "      <td>3.000000</td>\n",
       "      <td>7.111111e+64</td>\n",
       "      <td>28.000000</td>\n",
       "      <td>0.000000</td>\n",
       "      <td>0.000000</td>\n",
       "      <td>5.152536e+11</td>\n",
       "      <td>14.454200</td>\n",
       "      <td>6.849510e+05</td>\n",
       "    </tr>\n",
       "    <tr>\n",
       "      <th>75%</th>\n",
       "      <td>668.500000</td>\n",
       "      <td>1.000000</td>\n",
       "      <td>3.000000</td>\n",
       "      <td>7.061111e+78</td>\n",
       "      <td>38.000000</td>\n",
       "      <td>1.000000</td>\n",
       "      <td>0.000000</td>\n",
       "      <td>5.149485e+13</td>\n",
       "      <td>31.000000</td>\n",
       "      <td>7.051510e+05</td>\n",
       "    </tr>\n",
       "    <tr>\n",
       "      <th>max</th>\n",
       "      <td>891.000000</td>\n",
       "      <td>1.000000</td>\n",
       "      <td>3.000000</td>\n",
       "      <td>8.010111e+207</td>\n",
       "      <td>80.000000</td>\n",
       "      <td>8.000000</td>\n",
       "      <td>6.000000</td>\n",
       "      <td>8.379848e+35</td>\n",
       "      <td>512.329200</td>\n",
       "      <td>6.653553e+29</td>\n",
       "    </tr>\n",
       "  </tbody>\n",
       "</table>\n",
       "</div>"
      ],
      "text/plain": [
       "       PassengerId    Survived      Pclass           Name         Age  \\\n",
       "count   891.000000  891.000000  891.000000   8.910000e+02  714.000000   \n",
       "mean    446.000000    0.383838    2.308642  8.990024e+204   29.699118   \n",
       "std     257.353842    0.486592    0.836071            inf   14.526497   \n",
       "min       1.000000    0.000000    1.000000   7.697109e+27    0.420000   \n",
       "25%     223.500000    0.000000    2.000000   6.954608e+50   20.125000   \n",
       "50%     446.000000    0.000000    3.000000   7.111111e+64   28.000000   \n",
       "75%     668.500000    1.000000    3.000000   7.061111e+78   38.000000   \n",
       "max     891.000000    1.000000    3.000000  8.010111e+207   80.000000   \n",
       "\n",
       "            SibSp       Parch        Ticket        Fare         Cabin  \n",
       "count  891.000000  891.000000  8.910000e+02  891.000000  2.040000e+02  \n",
       "mean     0.523008    0.381594  5.776695e+33   32.204208  6.523092e+27  \n",
       "std      1.102743    0.806057  6.856935e+34   49.693429  6.571753e+28  \n",
       "min      0.000000    0.000000  5.457510e+05    0.000000  6.800000e+01  \n",
       "25%      0.000000    0.000000  5.154575e+09    7.910400  6.651530e+05  \n",
       "50%      0.000000    0.000000  5.152536e+11   14.454200  6.849510e+05  \n",
       "75%      1.000000    0.000000  5.149485e+13   31.000000  7.051510e+05  \n",
       "max      8.000000    6.000000  8.379848e+35  512.329200  6.653553e+29  "
      ]
     },
     "execution_count": 14,
     "metadata": {},
     "output_type": "execute_result"
    }
   ],
   "source": [
    "def convert(list): # convert function joins a list of strings into a single string\n",
    "      \n",
    "    # Converting integer list to string list \n",
    "    s = [str(i) for i in list] \n",
    "      \n",
    "    # Join list items using join() \n",
    "    res = int(\"\".join(s)) \n",
    "      \n",
    "    return(res) \n",
    "\n",
    "for i in range(0,len(titanic_train['Cabin'])): # Encoding Cabin training column \n",
    "        \n",
    "    if isinstance(titanic_train['Cabin'][i], str):\n",
    "        \n",
    "        number = [ord(letter)  for letter in titanic_train['Cabin'][i]]\n",
    "        \n",
    "        titanic_train['Cabin'][i]=convert(number)\n",
    "\n",
    "for i in range(0,len(titanic_test['Cabin'])): # Encoding Cabin Final testing column \n",
    "         \n",
    "    if isinstance(titanic_test['Cabin'][i],str):\n",
    "        \n",
    "        number = [ord(letter)  for letter in titanic_test['Cabin'][i]]\n",
    "        \n",
    "        titanic_test['Cabin'][i]=convert(number)\n",
    "\n",
    "    \n",
    "for i in range(0,len(titanic_train['Ticket'])): # Encoding Ticket training column \n",
    "        \n",
    "    if isinstance(titanic_train['Ticket'][i],str ):\n",
    "        \n",
    "        number = [ord(letter)  for letter in titanic_train['Ticket'][i]]\n",
    "        \n",
    "        titanic_train['Ticket'][i] = convert(number)\n",
    "\n",
    "for i in range(0,len(titanic_test['Ticket'])):  # Encoding Ticket Final testing column \n",
    "        \n",
    "    if isinstance(titanic_test['Ticket'][i], str):\n",
    "\n",
    "        number = [ord(letter)  for letter in titanic_test['Ticket'][i]]\n",
    "\n",
    "        titanic_test['Ticket'][i] = convert(number)\n",
    "\n",
    "for i in range(0,len(titanic_train['Name'])): # Encoding Name training column\n",
    "        \n",
    "    if isinstance(titanic_train['Name'][i],str ):\n",
    "        \n",
    "        number = [ord(letter)  for letter in titanic_train['Name'][i]]\n",
    "        \n",
    "        titanic_train['Name'][i] = convert(number)\n",
    "\n",
    "for i in range(0,len(titanic_test['Name'])): # Encoding Name Final testing column\n",
    "        \n",
    "    if isinstance(titanic_test['Name'][i], str):\n",
    "\n",
    "        number = [ord(letter)  for letter in titanic_test['Name'][i]]\n",
    "\n",
    "        titanic_test['Name'][i] = convert(number)\n",
    "\n",
    "# Converting Variables Types to Integers\n",
    "\n",
    "titanic_train['Ticket']=pd.to_numeric(titanic_train['Ticket'], downcast= 'integer') \n",
    "titanic_test['Ticket']=pd.to_numeric(titanic_test['Ticket'], downcast= 'integer')\n",
    "\n",
    "titanic_train['Cabin']=pd.to_numeric(titanic_train['Cabin'], downcast='integer')\n",
    "titanic_test['Cabin']=pd.to_numeric(titanic_test['Cabin'], downcast='integer')\n",
    "\n",
    "titanic_train['Name']=pd.to_numeric(titanic_train['Name'], downcast='integer')\n",
    "titanic_test['Name']=pd.to_numeric(titanic_test['Name'], downcast='integer')\n",
    "\n",
    "#Training dataset after encoding\n",
    "\n",
    "titanic_train.describe()"
   ]
  },
  {
   "cell_type": "markdown",
   "metadata": {
    "papermill": {
     "duration": 0.06276,
     "end_time": "2020-11-09T21:42:44.764936",
     "exception": false,
     "start_time": "2020-11-09T21:42:44.702176",
     "status": "completed"
    },
    "tags": []
   },
   "source": [
    "# 3. Encoding Categorical Variables:\n",
    "\n",
    "The Variables '**Sex**' and '**Embarked**' are Categorical and of type string so they must be Coded into numbers:"
   ]
  },
  {
   "cell_type": "code",
   "execution_count": 15,
   "metadata": {
    "execution": {
     "iopub.execute_input": "2020-11-09T21:42:44.905606Z",
     "iopub.status.busy": "2020-11-09T21:42:44.904848Z",
     "iopub.status.idle": "2020-11-09T21:42:44.908077Z",
     "shell.execute_reply": "2020-11-09T21:42:44.908578Z"
    },
    "papermill": {
     "duration": 0.082895,
     "end_time": "2020-11-09T21:42:44.908711",
     "exception": false,
     "start_time": "2020-11-09T21:42:44.825816",
     "status": "completed"
    },
    "tags": []
   },
   "outputs": [],
   "source": [
    "import pandas as pd \n",
    "\n",
    "titanic_train['Sex']=titanic_train['Sex'].replace('female',0)\n",
    "titanic_train['Sex']=titanic_train['Sex'].replace('male',1 )\n",
    "\n",
    "titanic_test['Sex']=titanic_test['Sex'].replace('female',0)\n",
    "titanic_test['Sex']=titanic_test['Sex'].replace('male',1 )\n",
    "\n",
    "titanic_train['Embarked']=titanic_train['Embarked'].replace('C',1 )\n",
    "titanic_train['Embarked']=titanic_train['Embarked'].replace('Q',2 )\n",
    "titanic_train['Embarked']=titanic_train['Embarked'].replace('S',3 )\n",
    "\n",
    "titanic_test['Embarked']=titanic_test['Embarked'].replace('C',1 )\n",
    "titanic_test['Embarked']=titanic_test['Embarked'].replace('Q',2 )\n",
    "titanic_test['Embarked']=titanic_test['Embarked'].replace('S',3 )\n"
   ]
  },
  {
   "cell_type": "markdown",
   "metadata": {
    "papermill": {
     "duration": 0.062032,
     "end_time": "2020-11-09T21:42:45.032272",
     "exception": false,
     "start_time": "2020-11-09T21:42:44.970240",
     "status": "completed"
    },
    "tags": []
   },
   "source": [
    "# 4. Missing Values:\n",
    " \n",
    "Before we move on with the analysis, we have another remark which is missing values in the variable Age. We can find that from the count of variable Age which is less than the count of Passengers or by simply running the following code:"
   ]
  },
  {
   "cell_type": "code",
   "execution_count": 16,
   "metadata": {
    "execution": {
     "iopub.execute_input": "2020-11-09T21:42:45.162870Z",
     "iopub.status.busy": "2020-11-09T21:42:45.161840Z",
     "iopub.status.idle": "2020-11-09T21:42:45.166686Z",
     "shell.execute_reply": "2020-11-09T21:42:45.166112Z"
    },
    "papermill": {
     "duration": 0.071746,
     "end_time": "2020-11-09T21:42:45.166785",
     "exception": false,
     "start_time": "2020-11-09T21:42:45.095039",
     "status": "completed"
    },
    "tags": []
   },
   "outputs": [
    {
     "data": {
      "text/plain": [
       "True"
      ]
     },
     "execution_count": 16,
     "metadata": {},
     "output_type": "execute_result"
    }
   ],
   "source": [
    "#Test Whether there is any Missing Values in the Datasets\n",
    "\n",
    "titanic_train.Age.isna().any().any()"
   ]
  },
  {
   "cell_type": "markdown",
   "metadata": {
    "papermill": {
     "duration": 0.06375,
     "end_time": "2020-11-09T21:42:45.292513",
     "exception": false,
     "start_time": "2020-11-09T21:42:45.228763",
     "status": "completed"
    },
    "tags": []
   },
   "source": [
    "That returns True.\n",
    "Let's Calculate the missing values Frequency in Age Column:"
   ]
  },
  {
   "cell_type": "code",
   "execution_count": 17,
   "metadata": {
    "execution": {
     "iopub.execute_input": "2020-11-09T21:42:45.425660Z",
     "iopub.status.busy": "2020-11-09T21:42:45.424721Z",
     "iopub.status.idle": "2020-11-09T21:42:45.428888Z",
     "shell.execute_reply": "2020-11-09T21:42:45.428338Z"
    },
    "papermill": {
     "duration": 0.073352,
     "end_time": "2020-11-09T21:42:45.428991",
     "exception": false,
     "start_time": "2020-11-09T21:42:45.355639",
     "status": "completed"
    },
    "tags": []
   },
   "outputs": [
    {
     "data": {
      "text/plain": [
       "0.19865319865319866"
      ]
     },
     "execution_count": 17,
     "metadata": {},
     "output_type": "execute_result"
    }
   ],
   "source": [
    "#Frequency of Missing Values for Variable 'Age'\n",
    "\n",
    "titanic_train['Age'].isnull().sum() / len(titanic_train)"
   ]
  },
  {
   "cell_type": "markdown",
   "metadata": {
    "papermill": {
     "duration": 0.065562,
     "end_time": "2020-11-09T21:42:45.557656",
     "exception": false,
     "start_time": "2020-11-09T21:42:45.492094",
     "status": "completed"
    },
    "tags": []
   },
   "source": [
    "So of every Ten rows 2 are having missing values in the variable **Age**.\n",
    "\n",
    "Let's run the code and get a Summary:\n",
    "\n"
   ]
  },
  {
   "cell_type": "code",
   "execution_count": 18,
   "metadata": {
    "execution": {
     "iopub.execute_input": "2020-11-09T21:42:45.696683Z",
     "iopub.status.busy": "2020-11-09T21:42:45.694863Z",
     "iopub.status.idle": "2020-11-09T21:42:45.699885Z",
     "shell.execute_reply": "2020-11-09T21:42:45.699082Z"
    },
    "papermill": {
     "duration": 0.076224,
     "end_time": "2020-11-09T21:42:45.700044",
     "exception": false,
     "start_time": "2020-11-09T21:42:45.623820",
     "status": "completed"
    },
    "tags": []
   },
   "outputs": [
    {
     "name": "stdout",
     "output_type": "stream",
     "text": [
      "PassengerId      0\n",
      "Survived         0\n",
      "Pclass           0\n",
      "Name             0\n",
      "Sex              0\n",
      "Age            177\n",
      "SibSp            0\n",
      "Parch            0\n",
      "Ticket           0\n",
      "Fare             0\n",
      "Cabin          687\n",
      "Embarked         2\n",
      "dtype: int64\n"
     ]
    }
   ],
   "source": [
    "#Summary of missing Values per Feature for Training Dataset\n",
    "\n",
    "print(titanic_train.isnull().sum())"
   ]
  },
  {
   "cell_type": "markdown",
   "metadata": {
    "papermill": {
     "duration": 0.06292,
     "end_time": "2020-11-09T21:42:45.826749",
     "exception": false,
     "start_time": "2020-11-09T21:42:45.763829",
     "status": "completed"
    },
    "tags": []
   },
   "source": [
    "So in total we have three  variables which are presenting missing values one Numerical variable which is **Age** and another one wich is a String Variable: **Cabin** and finally **Embarked** variable which presents the lowest frequencey of missing values of only 2 out of 891."
   ]
  },
  {
   "cell_type": "code",
   "execution_count": 19,
   "metadata": {
    "execution": {
     "iopub.execute_input": "2020-11-09T21:42:45.960439Z",
     "iopub.status.busy": "2020-11-09T21:42:45.959368Z",
     "iopub.status.idle": "2020-11-09T21:42:45.963907Z",
     "shell.execute_reply": "2020-11-09T21:42:45.964421Z"
    },
    "papermill": {
     "duration": 0.073667,
     "end_time": "2020-11-09T21:42:45.964556",
     "exception": false,
     "start_time": "2020-11-09T21:42:45.890889",
     "status": "completed"
    },
    "tags": []
   },
   "outputs": [
    {
     "data": {
      "text/plain": [
       "0.7710437710437711"
      ]
     },
     "execution_count": 19,
     "metadata": {},
     "output_type": "execute_result"
    }
   ],
   "source": [
    "#Frequency of Missing Values for Variable 'Cabin'\n",
    "\n",
    "titanic_train['Cabin'].isnull().sum() / len(titanic_train)"
   ]
  },
  {
   "cell_type": "markdown",
   "metadata": {
    "papermill": {
     "duration": 0.064693,
     "end_time": "2020-11-09T21:42:46.094647",
     "exception": false,
     "start_time": "2020-11-09T21:42:46.029954",
     "status": "completed"
    },
    "tags": []
   },
   "source": [
    "The '**Cabin**' Variable presents a very high frequency of missing values: of every 10 rows there are more than 7 rows with missing Cabin value.\n",
    "\n",
    "To solve the missing Values Problem we can try a KNN imputation of the 5 nearest Values of missing values,the problem that will remain unsolvable is the Cabin Variable missing values as there is no logic of replacement available."
   ]
  },
  {
   "cell_type": "code",
   "execution_count": 20,
   "metadata": {
    "execution": {
     "iopub.execute_input": "2020-11-09T21:42:46.232884Z",
     "iopub.status.busy": "2020-11-09T21:42:46.231805Z",
     "iopub.status.idle": "2020-11-09T21:42:46.581052Z",
     "shell.execute_reply": "2020-11-09T21:42:46.580451Z"
    },
    "papermill": {
     "duration": 0.422236,
     "end_time": "2020-11-09T21:42:46.581167",
     "exception": false,
     "start_time": "2020-11-09T21:42:46.158931",
     "status": "completed"
    },
    "tags": []
   },
   "outputs": [
    {
     "name": "stdout",
     "output_type": "stream",
     "text": [
      "0    0\n",
      "1    0\n",
      "2    0\n",
      "3    0\n",
      "4    0\n",
      "5    0\n",
      "6    0\n",
      "7    0\n",
      "8    0\n",
      "dtype: int64\n"
     ]
    }
   ],
   "source": [
    "#X_train represent the Table of Features of the Training Set\n",
    "X_train = titanic_train.drop(['Survived','Name','PassengerId'], axis=1)\n",
    "\n",
    "#X_testfinal represent the Table of Features of the Testing  Set\n",
    "X_testfinal =titanic_test.drop(['Name','PassengerId'], axis=1)\n",
    "\n",
    "#Standardizing the Data\n",
    "from sklearn.preprocessing import StandardScaler\n",
    "scaler = StandardScaler()\n",
    "X_train = pd.DataFrame(scaler.fit_transform(X_train) )\n",
    "\n",
    "X_testfinal = pd.DataFrame(scaler.fit_transform(X_testfinal))\n",
    "\n",
    "#Code For KNN imputation\n",
    "from sklearn.impute import KNNImputer\n",
    "\n",
    "imputer = KNNImputer(n_neighbors=5)\n",
    "X_train = pd.DataFrame(imputer.fit_transform(X_train),columns = X_train.columns)\n",
    "\n",
    "imputer = KNNImputer(n_neighbors=5)\n",
    "X_testfinal = pd.DataFrame(imputer.fit_transform(X_testfinal),columns = X_testfinal.columns)\n",
    "\n",
    "#Summary of missing Values per Feature for Training Dataset\n",
    "print(X_train.isnull().sum())"
   ]
  },
  {
   "cell_type": "code",
   "execution_count": 21,
   "metadata": {
    "execution": {
     "iopub.execute_input": "2020-11-09T21:42:46.729672Z",
     "iopub.status.busy": "2020-11-09T21:42:46.728811Z",
     "iopub.status.idle": "2020-11-09T21:42:46.733159Z",
     "shell.execute_reply": "2020-11-09T21:42:46.734585Z"
    },
    "papermill": {
     "duration": 0.083274,
     "end_time": "2020-11-09T21:42:46.734905",
     "exception": false,
     "start_time": "2020-11-09T21:42:46.651631",
     "status": "completed"
    },
    "tags": []
   },
   "outputs": [
    {
     "name": "stdout",
     "output_type": "stream",
     "text": [
      "0    0\n",
      "1    0\n",
      "2    0\n",
      "3    0\n",
      "4    0\n",
      "5    0\n",
      "6    0\n",
      "7    0\n",
      "8    0\n",
      "dtype: int64\n"
     ]
    }
   ],
   "source": [
    "#Summary of Missing Values After Filling for Testing Dataset\n",
    "\n",
    "print(X_testfinal.isnull().sum())"
   ]
  },
  {
   "cell_type": "markdown",
   "metadata": {
    "papermill": {
     "duration": 0.071603,
     "end_time": "2020-11-09T21:42:46.878891",
     "exception": false,
     "start_time": "2020-11-09T21:42:46.807288",
     "status": "completed"
    },
    "tags": []
   },
   "source": [
    "This analysis is still poor. To have a better information let's bring out our correlation matrix:\n"
   ]
  },
  {
   "cell_type": "code",
   "execution_count": 22,
   "metadata": {
    "execution": {
     "iopub.execute_input": "2020-11-09T21:42:47.028877Z",
     "iopub.status.busy": "2020-11-09T21:42:47.028041Z",
     "iopub.status.idle": "2020-11-09T21:42:47.898242Z",
     "shell.execute_reply": "2020-11-09T21:42:47.898823Z"
    },
    "papermill": {
     "duration": 0.948756,
     "end_time": "2020-11-09T21:42:47.899004",
     "exception": false,
     "start_time": "2020-11-09T21:42:46.950248",
     "status": "completed"
    },
    "tags": []
   },
   "outputs": [
    {
     "data": {
      "text/plain": [
       "<matplotlib.axes._subplots.AxesSubplot at 0x7fb76429e750>"
      ]
     },
     "execution_count": 22,
     "metadata": {},
     "output_type": "execute_result"
    },
    {
     "data": {
      "image/png": "[encoded data removed]",
      "text/plain": [
       "<Figure size 1080x1080 with 2 Axes>"
      ]
     },
     "metadata": {
      "needs_background": "light"
     },
     "output_type": "display_data"
    }
   ],
   "source": [
    "# Code for Correlation Matrix\n",
    "import seaborn as sns\n",
    "\n",
    "plt.figure(figsize=(15, 15))\n",
    "sns.heatmap(titanic_train.corr(), annot = True,square=True,cmap=plt.cm.Reds)\n"
   ]
  },
  {
   "cell_type": "markdown",
   "metadata": {
    "papermill": {
     "duration": 0.075597,
     "end_time": "2020-11-09T21:42:48.044195",
     "exception": false,
     "start_time": "2020-11-09T21:42:47.968598",
     "status": "completed"
    },
    "tags": []
   },
   "source": [
    "From the data we can spot many strong correlations such as **Corr(Pclass,Fare)=-0.549** also **Corr(SibSp,Parch)=0.414** but the conclusion is that Sex Variable has the highest correlation with the Survived Variable which is our Target.\n"
   ]
  },
  {
   "cell_type": "markdown",
   "metadata": {
    "papermill": {
     "duration": 0.066585,
     "end_time": "2020-11-09T21:42:48.180689",
     "exception": false,
     "start_time": "2020-11-09T21:42:48.114104",
     "status": "completed"
    },
    "tags": []
   },
   "source": [
    " # 5. Dimensionality Reduction: Principal Component Analysis\n",
    "\n",
    "The Objective here is to find New Variables Based on Combinations of the original Variables and those New Variables will reprensent a Variance of 95% of the original DataSet."
   ]
  },
  {
   "cell_type": "code",
   "execution_count": 23,
   "metadata": {
    "execution": {
     "iopub.execute_input": "2020-11-09T21:42:48.342893Z",
     "iopub.status.busy": "2020-11-09T21:42:48.324712Z",
     "iopub.status.idle": "2020-11-09T21:42:48.358362Z",
     "shell.execute_reply": "2020-11-09T21:42:48.357835Z"
    },
    "papermill": {
     "duration": 0.110601,
     "end_time": "2020-11-09T21:42:48.358526",
     "exception": false,
     "start_time": "2020-11-09T21:42:48.247925",
     "status": "completed"
    },
    "tags": []
   },
   "outputs": [
    {
     "name": "stdout",
     "output_type": "stream",
     "text": [
      "0    0\n",
      "1    0\n",
      "2    0\n",
      "3    0\n",
      "4    0\n",
      "5    0\n",
      "6    0\n",
      "7    0\n",
      "dtype: int64\n"
     ]
    }
   ],
   "source": [
    "# PCA Code\n",
    "\n",
    "from sklearn.decomposition import PCA\n",
    "pca = PCA(.95)\n",
    "principalComponents = pca.fit(X_train)\n",
    "X_train = pd.DataFrame(pca.transform(X_train))\n",
    "X_testfinal = pd.DataFrame(pca.transform(X_testfinal))\n",
    "print(X_testfinal.isnull().sum())"
   ]
  },
  {
   "cell_type": "markdown",
   "metadata": {
    "papermill": {
     "duration": 0.065452,
     "end_time": "2020-11-09T21:42:48.492532",
     "exception": false,
     "start_time": "2020-11-09T21:42:48.427080",
     "status": "completed"
    },
    "tags": []
   },
   "source": [
    "We have 8 remaining Variables compared to 11 that we had before running a PCA."
   ]
  },
  {
   "cell_type": "markdown",
   "metadata": {
    "papermill": {
     "duration": 0.067685,
     "end_time": "2020-11-09T21:42:48.627751",
     "exception": false,
     "start_time": "2020-11-09T21:42:48.560066",
     "status": "completed"
    },
    "tags": []
   },
   "source": [
    "# 6. **Data Split:**\n",
    "\n",
    "We will split the Training Dataset into 70% training and 30% validation."
   ]
  },
  {
   "cell_type": "code",
   "execution_count": 24,
   "metadata": {
    "execution": {
     "iopub.execute_input": "2020-11-09T21:42:48.788687Z",
     "iopub.status.busy": "2020-11-09T21:42:48.787709Z",
     "iopub.status.idle": "2020-11-09T21:42:48.792193Z",
     "shell.execute_reply": "2020-11-09T21:42:48.791730Z"
    },
    "papermill": {
     "duration": 0.08609,
     "end_time": "2020-11-09T21:42:48.792288",
     "exception": false,
     "start_time": "2020-11-09T21:42:48.706198",
     "status": "completed"
    },
    "tags": []
   },
   "outputs": [],
   "source": [
    "\n",
    "# We will preserve some data for Cross Validation\n",
    "X_trainxgb=X_train\n",
    "Y_trainxgb=titanic_train.Survived\n",
    "\n",
    "# Code for the Split\n",
    "import sklearn\n",
    "from sklearn.model_selection import train_test_split\n",
    "X_train, X_test, Y_train, Y_test = train_test_split(X_train, titanic_train.Survived, test_size = 0.3, random_state = 1)"
   ]
  },
  {
   "cell_type": "markdown",
   "metadata": {
    "papermill": {
     "duration": 0.067834,
     "end_time": "2020-11-09T21:42:48.926838",
     "exception": false,
     "start_time": "2020-11-09T21:42:48.859004",
     "status": "completed"
    },
    "tags": []
   },
   "source": [
    "# **7. Building the Models**"
   ]
  },
  {
   "cell_type": "markdown",
   "metadata": {
    "papermill": {
     "duration": 0.068989,
     "end_time": "2020-11-09T21:42:49.062139",
     "exception": false,
     "start_time": "2020-11-09T21:42:48.993150",
     "status": "completed"
    },
    "tags": []
   },
   "source": [
    "* # **The Logistic Model:**\n",
    " \n",
    "Our First Model will be the Logistic Model."
   ]
  },
  {
   "cell_type": "code",
   "execution_count": 25,
   "metadata": {
    "execution": {
     "iopub.execute_input": "2020-11-09T21:42:49.206211Z",
     "iopub.status.busy": "2020-11-09T21:42:49.205256Z",
     "iopub.status.idle": "2020-11-09T21:42:49.223055Z",
     "shell.execute_reply": "2020-11-09T21:42:49.222443Z"
    },
    "papermill": {
     "duration": 0.093089,
     "end_time": "2020-11-09T21:42:49.223180",
     "exception": false,
     "start_time": "2020-11-09T21:42:49.130091",
     "status": "completed"
    },
    "tags": []
   },
   "outputs": [
    {
     "data": {
      "text/plain": [
       "0.7723880597014925"
      ]
     },
     "execution_count": 25,
     "metadata": {},
     "output_type": "execute_result"
    }
   ],
   "source": [
    "# Code for the Logistic Modelling\n",
    "\n",
    "from sklearn.preprocessing import LabelEncoder\n",
    "\n",
    "from sklearn.linear_model import LogisticRegression\n",
    "model =LogisticRegression(class_weight='balanced', random_state=1).fit(X_train,Y_train)\n",
    "model.score(X_test, Y_test) # Score for the Logistic Modelling\n",
    "\n",
    "#Code for Testing and Outputing\n",
    "\n",
    "#test_preds = model.predict(X_testfinal)\n",
    "\n",
    "#output = pd.DataFrame({'PassengerId': titanic_test[\"PassengerId\"],'Survived': test_preds})\n",
    "\n",
    "#output.to_csv('LogisticRegressionSubmission16.csv', index=False)"
   ]
  },
  {
   "cell_type": "markdown",
   "metadata": {
    "papermill": {
     "duration": 0.066537,
     "end_time": "2020-11-09T21:42:49.357903",
     "exception": false,
     "start_time": "2020-11-09T21:42:49.291366",
     "status": "completed"
    },
    "tags": []
   },
   "source": [
    "The score for this initial Model is 77,2%."
   ]
  },
  {
   "cell_type": "markdown",
   "metadata": {
    "papermill": {
     "duration": 0.066087,
     "end_time": "2020-11-09T21:42:49.491671",
     "exception": false,
     "start_time": "2020-11-09T21:42:49.425584",
     "status": "completed"
    },
    "tags": []
   },
   "source": [
    "* # KNN Model:\n",
    "\n",
    "Let's Build the second Model which is **K-Nearest-Neighbors** Model:"
   ]
  },
  {
   "cell_type": "code",
   "execution_count": 26,
   "metadata": {
    "execution": {
     "iopub.execute_input": "2020-11-09T21:42:49.637056Z",
     "iopub.status.busy": "2020-11-09T21:42:49.636396Z",
     "iopub.status.idle": "2020-11-09T21:42:49.662043Z",
     "shell.execute_reply": "2020-11-09T21:42:49.661086Z"
    },
    "papermill": {
     "duration": 0.101928,
     "end_time": "2020-11-09T21:42:49.662195",
     "exception": false,
     "start_time": "2020-11-09T21:42:49.560267",
     "status": "completed"
    },
    "tags": []
   },
   "outputs": [
    {
     "name": "stdout",
     "output_type": "stream",
     "text": [
      "Accuracy of K-NN classifier on test set: 0.776\n"
     ]
    }
   ],
   "source": [
    "# Code for KNN Model\n",
    "\n",
    "\n",
    "from sklearn.neighbors import KNeighborsClassifier\n",
    "knn = KNeighborsClassifier()\n",
    "knn=knn.fit(X_train, Y_train)\n",
    "\n",
    "print('Accuracy of K-NN classifier on test set: {:.3f}'\n",
    "     .format(knn.score(X_test, Y_test)))\n",
    "\n",
    "\n",
    "#from sklearn.preprocessing import LabelEncoder\n",
    "\n",
    "#test_preds = knn.predict(X_testfinal)\n",
    "#test_preds\n",
    "\n",
    "#encoder = LabelEncoder()\n",
    "#encoder.fit(test_preds)\n",
    "#test_preds = encoder.transform(test_preds)\n",
    "\n",
    "#output = pd.DataFrame({'PassengerId': titanic_test[\"PassengerId\"],'Survived': test_preds})\n",
    "#output.to_csv('LogisticRegressionSubmission15.csv', index=False)"
   ]
  },
  {
   "cell_type": "markdown",
   "metadata": {
    "papermill": {
     "duration": 0.076178,
     "end_time": "2020-11-09T21:42:49.817095",
     "exception": false,
     "start_time": "2020-11-09T21:42:49.740917",
     "status": "completed"
    },
    "tags": []
   },
   "source": [
    "The Score for KNN model before tuning is 77.6% which is better than Logistic Model without Hyper Tuning.\n",
    "\n",
    "Now we will try to improve it by running GridSearchCV for Hyperparameter Tuning:\n"
   ]
  },
  {
   "cell_type": "code",
   "execution_count": 27,
   "metadata": {
    "execution": {
     "iopub.execute_input": "2020-11-09T21:42:49.961937Z",
     "iopub.status.busy": "2020-11-09T21:42:49.960985Z",
     "iopub.status.idle": "2020-11-09T21:47:38.613348Z",
     "shell.execute_reply": "2020-11-09T21:47:38.614256Z"
    },
    "papermill": {
     "duration": 288.728483,
     "end_time": "2020-11-09T21:47:38.614516",
     "exception": false,
     "start_time": "2020-11-09T21:42:49.886033",
     "status": "completed"
    },
    "tags": []
   },
   "outputs": [
    {
     "name": "stdout",
     "output_type": "stream",
     "text": [
      "Accuracy of K-NN classifier on test set: 0.787\n"
     ]
    }
   ],
   "source": [
    "from sklearn.model_selection import GridSearchCV\n",
    "\n",
    "#List Hyperparameters that we want to tune.\n",
    "leaf_size = list(range(1,50))\n",
    "n_neighbors = list(range(1,30))\n",
    "p=[1,2]\n",
    "#Convert to dictionary\n",
    "hyperparameters = dict(leaf_size=leaf_size, n_neighbors=n_neighbors, p=p)\n",
    "#Create new KNN object\n",
    "knn_2 = KNeighborsClassifier()\n",
    "#Use GridSearch\n",
    "clf = GridSearchCV(knn_2, hyperparameters, cv=10)\n",
    "#Fit the model\n",
    "best_model = clf.fit(X_train,Y_train)\n",
    "\n",
    "print('Accuracy of K-NN classifier on test set: {:.3f}'\n",
    "     .format(best_model.score(X_test, Y_test)))"
   ]
  },
  {
   "cell_type": "markdown",
   "metadata": {
    "papermill": {
     "duration": 0.201216,
     "end_time": "2020-11-09T21:47:39.007490",
     "exception": false,
     "start_time": "2020-11-09T21:47:38.806274",
     "status": "completed"
    },
    "tags": []
   },
   "source": [
    "After Tuning, We get 78.7% which is a better accuracy than the Model before tuning."
   ]
  },
  {
   "cell_type": "markdown",
   "metadata": {
    "papermill": {
     "duration": 0.09666,
     "end_time": "2020-11-09T21:47:39.359615",
     "exception": false,
     "start_time": "2020-11-09T21:47:39.262955",
     "status": "completed"
    },
    "tags": []
   },
   "source": [
    "* #  **Random Forest:**"
   ]
  },
  {
   "cell_type": "code",
   "execution_count": 28,
   "metadata": {
    "execution": {
     "iopub.execute_input": "2020-11-09T21:47:39.540275Z",
     "iopub.status.busy": "2020-11-09T21:47:39.539442Z",
     "iopub.status.idle": "2020-11-09T21:47:39.947713Z",
     "shell.execute_reply": "2020-11-09T21:47:39.948279Z"
    },
    "papermill": {
     "duration": 0.497481,
     "end_time": "2020-11-09T21:47:39.948420",
     "exception": false,
     "start_time": "2020-11-09T21:47:39.450939",
     "status": "completed"
    },
    "tags": []
   },
   "outputs": [
    {
     "name": "stdout",
     "output_type": "stream",
     "text": [
      "Accuracy: 0.7574626865671642\n"
     ]
    }
   ],
   "source": [
    "# Code for Random Forest\n",
    "\n",
    "\n",
    "from sklearn.ensemble import RandomForestClassifier\n",
    "rf_random = RandomForestClassifier(random_state = 42)\n",
    "rf_random.fit(X_train, Y_train)\n",
    "\n",
    "from sklearn import metrics\n",
    "\n",
    "\n",
    "Y_pred = rf_random.predict(X_test)\n",
    "\n",
    "print(\"Accuracy:\",metrics.accuracy_score(Y_test, Y_pred))\n"
   ]
  },
  {
   "cell_type": "markdown",
   "metadata": {
    "papermill": {
     "duration": 0.091067,
     "end_time": "2020-11-09T21:47:40.109179",
     "exception": false,
     "start_time": "2020-11-09T21:47:40.018112",
     "status": "completed"
    },
    "tags": []
   },
   "source": [
    "The Score for Random Forest model before tuning is 75.7% which is low.\n",
    "\n",
    "Now we will try to improve it by running RandomizedSearchCV for Hyperparameter Tuning:"
   ]
  },
  {
   "cell_type": "code",
   "execution_count": 29,
   "metadata": {
    "execution": {
     "iopub.execute_input": "2020-11-09T21:47:40.266014Z",
     "iopub.status.busy": "2020-11-09T21:47:40.265292Z",
     "iopub.status.idle": "2020-11-09T21:57:36.591928Z",
     "shell.execute_reply": "2020-11-09T21:57:36.592414Z"
    },
    "papermill": {
     "duration": 596.413171,
     "end_time": "2020-11-09T21:57:36.592576",
     "exception": false,
     "start_time": "2020-11-09T21:47:40.179405",
     "status": "completed"
    },
    "tags": []
   },
   "outputs": [
    {
     "name": "stdout",
     "output_type": "stream",
     "text": [
      "Fitting 3 folds for each of 100 candidates, totalling 300 fits\n"
     ]
    },
    {
     "name": "stderr",
     "output_type": "stream",
     "text": [
      "[Parallel(n_jobs=-1)]: Using backend LokyBackend with 2 concurrent workers.\n",
      "[Parallel(n_jobs=-1)]: Done  37 tasks      | elapsed:  1.3min\n",
      "[Parallel(n_jobs=-1)]: Done 158 tasks      | elapsed:  5.3min\n",
      "[Parallel(n_jobs=-1)]: Done 300 out of 300 | elapsed:  9.9min finished\n"
     ]
    },
    {
     "name": "stdout",
     "output_type": "stream",
     "text": [
      "0.7723880597014925\n"
     ]
    }
   ],
   "source": [
    "from sklearn.model_selection import RandomizedSearchCV\n",
    "# Number of trees in random forest\n",
    "n_estimators = [int(x) for x in np.linspace(start = 200, stop = 2000, num = 10)]\n",
    "# Number of features to consider at every split\n",
    "max_features = ['auto', 'sqrt']\n",
    "# Maximum number of levels in tree\n",
    "max_depth = [int(x) for x in np.linspace(10, 110, num = 11)]\n",
    "max_depth.append(None)\n",
    "# Minimum number of samples required to split a node\n",
    "min_samples_split = [2, 5, 10]\n",
    "# Minimum number of samples required at each leaf node\n",
    "min_samples_leaf = [1, 2, 4]\n",
    "# Method of selecting samples for training each tree\n",
    "bootstrap = [True, False]\n",
    "# Create the random grid\n",
    "random_grid = {'n_estimators': n_estimators,\n",
    "               'max_features': max_features,\n",
    "               'max_depth': max_depth,\n",
    "               'min_samples_split': min_samples_split,\n",
    "               'min_samples_leaf': min_samples_leaf,\n",
    "               'bootstrap': bootstrap}\n",
    "\n",
    "rf_random = RandomizedSearchCV(estimator = rf_random, param_distributions = random_grid, n_iter = 100, cv = 3, verbose=2, random_state=42, n_jobs = -1)\n",
    "# Fit the random search model\n",
    "best_random = rf_random.fit(X_train, Y_train)\n",
    "\n",
    "\n",
    "random_accuracy = best_random.score(X_test, Y_test) \n",
    "\n",
    "print(random_accuracy)\n",
    "\n",
    "\n",
    "#test_preds = best_random.predict(X_testfinal)\n",
    "#test_preds\n",
    "\n",
    "#encoder = LabelEncoder()\n",
    "#encoder.fit(test_preds)\n",
    "#test_preds = encoder.transform(test_preds)\n",
    "\n",
    "#output = pd.DataFrame({'PassengerId': titanic_test[\"PassengerId\"],'Survived': test_preds})\n",
    "#output.to_csv('LogisticRegressionSubmission12.csv', index=False)\n"
   ]
  },
  {
   "cell_type": "markdown",
   "metadata": {
    "papermill": {
     "duration": 0.068003,
     "end_time": "2020-11-09T21:57:36.731215",
     "exception": false,
     "start_time": "2020-11-09T21:57:36.663212",
     "status": "completed"
    },
    "tags": []
   },
   "source": [
    "The Score after tuning is 77.2% and this is not improving the score."
   ]
  },
  {
   "cell_type": "markdown",
   "metadata": {
    "papermill": {
     "duration": 0.077378,
     "end_time": "2020-11-09T21:57:36.884768",
     "exception": false,
     "start_time": "2020-11-09T21:57:36.807390",
     "status": "completed"
    },
    "tags": []
   },
   "source": [
    "# **More Models:**\n",
    "\n",
    "* **XGBoost model:**"
   ]
  },
  {
   "cell_type": "code",
   "execution_count": 30,
   "metadata": {
    "execution": {
     "iopub.execute_input": "2020-11-09T21:57:37.037890Z",
     "iopub.status.busy": "2020-11-09T21:57:37.037159Z",
     "iopub.status.idle": "2020-11-09T21:57:54.013530Z",
     "shell.execute_reply": "2020-11-09T21:57:54.014287Z"
    },
    "papermill": {
     "duration": 17.054451,
     "end_time": "2020-11-09T21:57:54.014484",
     "exception": false,
     "start_time": "2020-11-09T21:57:36.960033",
     "status": "completed"
    },
    "tags": []
   },
   "outputs": [
    {
     "name": "stdout",
     "output_type": "stream",
     "text": [
      "Best Accuracy: 0.7686567164179104\n"
     ]
    }
   ],
   "source": [
    "#Code for XGBoost model\n",
    "from sklearn.metrics import accuracy_score\n",
    "\n",
    "from xgboost import XGBClassifier\n",
    "\n",
    "# fit model no training data\n",
    "model = XGBClassifier(n_estimators=5000, learning_rate=0.1, n_jobs=300)\n",
    "model.fit(X_train, Y_train, \n",
    "             early_stopping_rounds=15, \n",
    "             eval_set=[(X_test, Y_test)], \n",
    "             verbose=False)\n",
    "\n",
    "Y_pred = model.predict(X_test)\n",
    "print(\"Best Accuracy:\",accuracy_score(Y_test,  pd.DataFrame(Y_pred)))"
   ]
  },
  {
   "cell_type": "markdown",
   "metadata": {
    "papermill": {
     "duration": 0.101097,
     "end_time": "2020-11-09T21:57:54.218806",
     "exception": false,
     "start_time": "2020-11-09T21:57:54.117709",
     "status": "completed"
    },
    "tags": []
   },
   "source": [
    "Before tuning we get only 76.8%\n",
    "\n",
    "Let's Hyper tune the model using **Bayesian Optimization**.\n",
    "\n",
    "**And this time let's use cross validation.**"
   ]
  },
  {
   "cell_type": "code",
   "execution_count": 31,
   "metadata": {
    "execution": {
     "iopub.execute_input": "2020-11-09T21:57:54.444213Z",
     "iopub.status.busy": "2020-11-09T21:57:54.443506Z",
     "iopub.status.idle": "2020-11-09T22:04:35.755308Z",
     "shell.execute_reply": "2020-11-09T22:04:34.192083Z"
    },
    "papermill": {
     "duration": 401.436185,
     "end_time": "2020-11-09T22:04:35.755532",
     "exception": false,
     "start_time": "2020-11-09T21:57:54.319347",
     "status": "completed"
    },
    "tags": []
   },
   "outputs": [
    {
     "name": "stdout",
     "output_type": "stream",
     "text": [
      "|   iter    |  target   |     a     |     b     |     c     |     d     |\n",
      "-------------------------------------------------------------------------\n",
      "[0]\tvalidation_0-error:0.26667\n",
      "Will train until validation_0-error hasn't improved in 16 rounds.\n",
      "[1]\tvalidation_0-error:0.26667\n",
      "[2]\tvalidation_0-error:0.24444\n",
      "[3]\tvalidation_0-error:0.26667\n",
      "[4]\tvalidation_0-error:0.22222\n",
      "[5]\tvalidation_0-error:0.26667\n",
      "[6]\tvalidation_0-error:0.24444\n",
      "[7]\tvalidation_0-error:0.24444\n",
      "[8]\tvalidation_0-error:0.24444\n",
      "[9]\tvalidation_0-error:0.28889\n",
      "[10]\tvalidation_0-error:0.28889\n",
      "[11]\tvalidation_0-error:0.31111\n",
      "[12]\tvalidation_0-error:0.31111\n",
      "[13]\tvalidation_0-error:0.28889\n",
      "[14]\tvalidation_0-error:0.28889\n"
     ]
    },
    {
     "name": "stderr",
     "output_type": "stream",
     "text": [
      "/opt/conda/lib/python3.7/site-packages/sklearn/model_selection/_split.py:297: FutureWarning: Setting a random_state has no effect since shuffle is False. This will raise an error in 0.24. You should leave random_state to its default (None), or set shuffle=True.\n",
      "  FutureWarning\n"
     ]
    },
    {
     "name": "stdout",
     "output_type": "stream",
     "text": [

      "Stopping. Best iteration:\n",
      "[2]\tvalidation_0-error:0.09091\n",
      "\n",
      "0.113636\n",
      "0.1874748\n",
      "| \u001b[0m 9       \u001b[0m | \u001b[0m-0.1875  \u001b[0m | \u001b[0m 7.484e+0\u001b[0m | \u001b[0m 0.1194  \u001b[0m | \u001b[0m 96.32   \u001b[0m | \u001b[0m 40.62   \u001b[0m |\n",
      "=========================================================================\n",
      "Accuracy: 0.8215153\n"
     ]
    }
   ],
   "source": [
    "from sklearn import metrics\n",
    "from bayes_opt import BayesianOptimization\n",
    "\n",
    "from xgboost import XGBClassifier\n",
    "from sklearn.metrics import accuracy_score\n",
    "from sklearn.model_selection import KFold\n",
    "\n",
    "\n",
    "# configure the cross-validation procedure\n",
    "kfold = KFold(n_splits=20, random_state=1)\n",
    "\n",
    " \n",
    "\n",
    "# Define Objective Function\n",
    "def f(a,b,c,d):\n",
    "    cvscores = [] \n",
    "\n",
    "    for train, test in kfold.split(X_trainxgb, Y_trainxgb):\n",
    "\n",
    "        \n",
    "        my_model = XGBClassifier(n_estimators=int(a), learning_rate=b, n_jobs=int(c))\n",
    "        my_model.fit(X_trainxgb.iloc[train], Y_trainxgb.iloc[train], early_stopping_rounds=int(d), eval_set=[(X_trainxgb.iloc[test], Y_trainxgb.iloc[test])], eval_metric='error')\n",
    "\n",
    "        scores = my_model.evals_result()\n",
    "        print( scores['validation_0']['error'][-1])\n",
    "        cvscores.append(scores['validation_0']['error'][-1])\n",
    "    print(np.mean(cvscores))\n",
    "    return -1*np.mean(cvscores)\n",
    "\n",
    "# Bounded region of parameter space\n",
    "pbounds={'a': (10,12000),'b': (0.01,0.5),'c': (10,100),'d': (2,50)} \n",
    "\n",
    "# Bayesian Optimizer\n",
    "optimizer = BayesianOptimization(f,pbounds=pbounds,random_state=1)\n",
    "\n",
    "optimizer.maximize(6,3)\n",
    "\n",
    "# Model function\n",
    "def s(a,b,c,d):\n",
    "    cvscores = [] \n",
    "    for train, test in kfold.split(X_trainxgb, Y_trainxgb):\n",
    "\n",
    "        my_model = XGBClassifier(n_estimators=int(a), learning_rate=b, n_jobs=int(c))\n",
    "        my_model.fit(X_trainxgb.iloc[train], Y_trainxgb.iloc[train], early_stopping_rounds=int(d), eval_set=[(X_trainxgb.iloc[test], Y_trainxgb.iloc[test])], eval_metric='error')\n",
    "\n",
    "        scores = my_model.evals_result()\n",
    "        print( scores['validation_0']['error'][-1])\n",
    "        cvscores.append(scores['validation_0']['error'][-1] )\n",
    "        print(np.mean(cvscores))\n",
    "    return my_model\n",
    "\n",
    "\n",
    "# Accuracy\n",
    "print(\"Accuracy:\",1+optimizer.max['target'])\n",
    "\n",
    "\n",
    "#test_preds = pd.DataFrame(s(int(optimizer.max['params'][\"a\"]),optimizer.max['params'][\"b\"],int(optimizer.max['params'][\"c\"]),int(optimizer.max['params'][\"d\"])).predict(X_testfinal))\n",
    "\n"
   ]
  },
  {
   "cell_type": "markdown",
   "metadata": {
    "papermill": {
     "duration": 2.928514,
     "end_time": "2020-11-09T22:04:41.666482",
     "exception": false,
     "start_time": "2020-11-09T22:04:38.737968",
     "status": "completed"
    },
    "tags": []
   },
   "source": [
    "The Score after tuning is 82% and it's the best score we had so far."
   ]
  },
  {
   "cell_type": "markdown",
   "metadata": {
    "papermill": {
     "duration": 3.187996,
     "end_time": "2020-11-09T22:04:47.673160",
     "exception": false,
     "start_time": "2020-11-09T22:04:44.485164",
     "status": "completed"
    },
    "tags": []
   },
   "source": [
    "* **Simple Neural Network with Bayesian Optimization:**"
   ]
  },
  {
   "cell_type": "code",
   "execution_count": 32,
   "metadata": {
    "execution": {
     "iopub.execute_input": "2020-11-09T22:04:53.665539Z",
     "iopub.status.busy": "2020-11-09T22:04:53.664540Z",
     "iopub.status.idle": "2020-11-09T22:05:45.915242Z",
     "shell.execute_reply": "2020-11-09T22:05:45.914650Z"
    },
    "papermill": {
     "duration": 55.359315,
     "end_time": "2020-11-09T22:05:45.915361",
     "exception": false,
     "start_time": "2020-11-09T22:04:50.556046",
     "status": "completed"
    },
    "tags": []
   },
   "outputs": [
    {
     "name": "stdout",
     "output_type": "stream",
     "text": [
      "|   iter    |  target   |     a     |     b     |\n",

      "Accuracy:  0.7835820913314819\n"
     ]
    }
   ],
   "source": [
    "#Code for Simple Neural Network with Bayesian Optimization\n",
    "\n",
    "from bayes_opt import BayesianOptimization\n",
    "import tensorflow as tf\n",
    "from sklearn.metrics import accuracy_score\n",
    "from keras.models import load_model\n",
    "from tensorflow.keras.layers import Dense, Flatten, Activation\n",
    "\n",
    "import keras\n",
    "from keras.models import Sequential\n",
    "from keras.layers import Dense, Dropout, Activation\n",
    "from tensorflow.keras.models import Sequential\n",
    "from sklearn.preprocessing import LabelEncoder\n",
    "\n",
    "\n",
    "from tensorflow import keras\n",
    "\n",
    "import numpy as np\n",
    "\n",
    "\n",
    "# Neural Network Build function\n",
    "\n",
    "def create_model(a,b):\n",
    "    model = Sequential()\n",
    "\n",
    "    model.add(keras.layers.Dense(a, input_dim=8 ,activation='relu'))\n",
    "    model.add(keras.layers.Dropout(b))\n",
    "\n",
    "    #model.add(keras.layers.Dense(c, activation='relu'))\n",
    "    #model.add(keras.layers.Dropout(d))\n",
    "\n",
    "\n",
    "    model.add(keras.layers.Dense(1, activation='sigmoid'))\n",
    "    \n",
    "    model.compile(loss=\"binary_crossentropy\", optimizer= tf.keras.optimizers.Adam(), metrics=['accuracy'])\n",
    "    \n",
    "    model.fit(X_train, pd.DataFrame(Y_train), 500,  500)\n",
    "    \n",
    "\n",
    "    return model\n",
    "\n",
    "\n",
    "# Model Evaluation function\n",
    "\n",
    "def evaluate_model(a,b):\n",
    "\n",
    "    score = create_model(a,b).evaluate(X_test,pd.DataFrame(Y_test),batch_size=500)\n",
    "    \n",
    "    return score[1]\n",
    "\n",
    "np.set_printoptions(precision=2,suppress=True)\n",
    "\n",
    "# Bounded region of parameter space\n",
    "\n",
    "pbounds={'a': (1,40),'b': (0.1,0.9)} \n",
    "\n",
    "# Bayesian Optimization\n",
    "\n",
    "optimizer = BayesianOptimization(evaluate_model,pbounds=pbounds,random_state=42)\n",
    "\n",
    "optimizer.maximize(3,2)\n",
    "\n",
    "# Accuracy\n",
    "score = evaluate_model(optimizer.max['params']['a'],optimizer.max['params']['b'])\n",
    "print(\"Accuracy: \",score)\n",
    "\n",
    "#create_model(optimizer.max['params']['a'],optimizer.max['params']['b']).save('modelX.h5')\n",
    "#modelX=load_model('modelX.h5')\n",
    "\n",
    "#test_preds = modelX.predict_classes(X_testfinal)\n",
    "#test_preds\n",
    "\n",
    "#encoder = LabelEncoder()\n",
    "#encoder.fit(test_preds)\n",
    "#test_preds = pd.DataFrame(encoder.transform(test_preds))\n",
    "\n",
    "#output = pd.DataFrame({'PassengerId': titanic_test[\"PassengerId\"],'Survived': test_preds[0]})\n",
    "#output.to_csv('SubmissionABDC.csv', index=False)"
   ]
  },
  {
   "cell_type": "markdown",
   "metadata": {
    "papermill": {
     "duration": 5.499981,
     "end_time": "2020-11-09T22:05:57.698690",
     "exception": false,
     "start_time": "2020-11-09T22:05:52.198709",
     "status": "completed"
    },
    "tags": []
   },
   "source": [
    "The Score of this simple Neural Network is **78.3%** but there is still room for improvement."
   ]
  }
 ],
 "metadata": {
  "kernelspec": {
   "display_name": "Python 3",
   "language": "python",
   "name": "python3"
  },
  "language_info": {
   "codemirror_mode": {
    "name": "ipython",
    "version": 3
   },
   "file_extension": ".py",
   "mimetype": "text/x-python",
   "name": "python",
   "nbconvert_exporter": "python",
   "pygments_lexer": "ipython3",
   "version": "3.7.6"
  },
  "papermill": {
   "duration": 1413.328864,
   "end_time": "2020-11-09T22:06:05.246198",
   "environment_variables": {},
   "exception": null,
   "input_path": "__notebook__.ipynb",
   "output_path": "__notebook__.ipynb",
   "parameters": {},
   "start_time": "2020-11-09T21:42:31.917334",
   "version": "2.1.0"
  }
 },
 "nbformat": 4,
 "nbformat_minor": 4
}
